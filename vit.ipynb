{
 "cells": [
  {
   "cell_type": "code",
   "execution_count": 1,
   "metadata": {},
   "outputs": [
    {
     "name": "stdout",
     "output_type": "stream",
     "text": [
      "Defaulting to user installation because normal site-packages is not writeable\n",
      "Requirement already satisfied: pandas in /home/vanisha/.local/lib/python3.10/site-packages (2.2.1)\n",
      "Requirement already satisfied: scikit-learn in /home/vanisha/.local/lib/python3.10/site-packages (1.4.1.post1)\n",
      "Requirement already satisfied: numpy<2,>=1.22.4 in /home/vanisha/.local/lib/python3.10/site-packages (from pandas) (1.26.4)\n",
      "Requirement already satisfied: python-dateutil>=2.8.2 in /home/vanisha/.local/lib/python3.10/site-packages (from pandas) (2.9.0.post0)\n",
      "Requirement already satisfied: pytz>=2020.1 in /usr/lib/python3/dist-packages (from pandas) (2022.1)\n",
      "Requirement already satisfied: tzdata>=2022.7 in /home/vanisha/.local/lib/python3.10/site-packages (from pandas) (2024.1)\n",
      "Requirement already satisfied: scipy>=1.6.0 in /home/vanisha/.local/lib/python3.10/site-packages (from scikit-learn) (1.12.0)\n",
      "Requirement already satisfied: joblib>=1.2.0 in /home/vanisha/.local/lib/python3.10/site-packages (from scikit-learn) (1.3.2)\n",
      "Requirement already satisfied: threadpoolctl>=2.0.0 in /home/vanisha/.local/lib/python3.10/site-packages (from scikit-learn) (3.3.0)\n",
      "Requirement already satisfied: six>=1.5 in /usr/lib/python3/dist-packages (from python-dateutil>=2.8.2->pandas) (1.16.0)\n"
     ]
    }
   ],
   "source": [
    "!pip install -q transformers datasets\n",
    "!pip install pandas scikit-learn"
   ]
  },
  {
   "cell_type": "markdown",
   "metadata": {},
   "source": [
    "## ViT"
   ]
  },
  {
   "cell_type": "code",
   "execution_count": 97,
   "metadata": {},
   "outputs": [],
   "source": [
    "import os\n",
    "import pandas as pd\n",
    "from sklearn.datasets import load_files\n",
    "from sklearn.model_selection import train_test_split\n",
    "from tqdm import tqdm\n",
    "\n",
    "# Load labels from CSV file\n",
    "labels_df = pd.read_csv('JustRAIGS_Train_labels.csv')\n",
    "\n",
    "# Load image filenames from folder\n",
    "# image_folder = '/home/vanisha/glaucoma/0'\n",
    "image_folder = 'crop_partial_data'\n",
    "image_files = [os.path.join(image_folder, filename) for filename in os.listdir(image_folder)]\n",
    "\n",
    "# Extract image IDs from filenames\n",
    "# image_ids = [os.path.splitext(os.path.basename(file))[0] for file in image_files]\n",
    "image_ids = [os.path.basename(file).split('_')[0] for file in image_files]\n",
    "\n",
    "# Merge labels with image IDs\n",
    "data = pd.merge(pd.DataFrame({'image_id': image_ids, 'filename': image_files}), labels_df, on='image_id')\n",
    "\n",
    "# Split data into train and test sets\n",
    "# train_data, test_data = train_test_split(data, test_size=0.2, random_state=42)\n",
    "\n",
    "# Now `train_data` and `test_data` contain image filenames along with corresponding labels\n",
    "# You can proceed to load images using `sklearn.datasets.load_files` or any other image loading library\n"
   ]
  },
  {
   "cell_type": "code",
   "execution_count": 98,
   "metadata": {},
   "outputs": [
    {
     "data": {
      "text/html": [
       "<div>\n",
       "<style scoped>\n",
       "    .dataframe tbody tr th:only-of-type {\n",
       "        vertical-align: middle;\n",
       "    }\n",
       "\n",
       "    .dataframe tbody tr th {\n",
       "        vertical-align: top;\n",
       "    }\n",
       "\n",
       "    .dataframe thead th {\n",
       "        text-align: right;\n",
       "    }\n",
       "</style>\n",
       "<table border=\"1\" class=\"dataframe\">\n",
       "  <thead>\n",
       "    <tr style=\"text-align: right;\">\n",
       "      <th></th>\n",
       "      <th>image_id</th>\n",
       "      <th>filename</th>\n",
       "      <th>Final Label</th>\n",
       "      <th>Fellow Eye ID</th>\n",
       "      <th>Age</th>\n",
       "      <th>Label G1</th>\n",
       "      <th>Label G2</th>\n",
       "      <th>Label G3</th>\n",
       "      <th>G1 ANRS</th>\n",
       "      <th>G1 ANRI</th>\n",
       "      <th>...</th>\n",
       "      <th>G3 ANRS</th>\n",
       "      <th>G3 ANRI</th>\n",
       "      <th>G3 RNFLDS</th>\n",
       "      <th>G3 RNFLDI</th>\n",
       "      <th>G3 BCLVS</th>\n",
       "      <th>G3 BCLVI</th>\n",
       "      <th>G3 NVT</th>\n",
       "      <th>G3 DH</th>\n",
       "      <th>G3 LD</th>\n",
       "      <th>G3 LC</th>\n",
       "    </tr>\n",
       "  </thead>\n",
       "  <tbody>\n",
       "    <tr>\n",
       "      <th>0</th>\n",
       "      <td>TRAIN006053</td>\n",
       "      <td>crop_partial_data/TRAIN006053_optic_disc.jpg</td>\n",
       "      <td>NRG</td>\n",
       "      <td>TRAIN069418</td>\n",
       "      <td>47.0</td>\n",
       "      <td>NRG</td>\n",
       "      <td>NRG</td>\n",
       "      <td>NaN</td>\n",
       "      <td>0.0</td>\n",
       "      <td>0.0</td>\n",
       "      <td>...</td>\n",
       "      <td>NaN</td>\n",
       "      <td>NaN</td>\n",
       "      <td>NaN</td>\n",
       "      <td>NaN</td>\n",
       "      <td>NaN</td>\n",
       "      <td>NaN</td>\n",
       "      <td>NaN</td>\n",
       "      <td>NaN</td>\n",
       "      <td>NaN</td>\n",
       "      <td>NaN</td>\n",
       "    </tr>\n",
       "    <tr>\n",
       "      <th>1</th>\n",
       "      <td>TRAIN049372</td>\n",
       "      <td>crop_partial_data/TRAIN049372_optic_disc.jpg</td>\n",
       "      <td>NRG</td>\n",
       "      <td>TRAIN014706</td>\n",
       "      <td>62.0</td>\n",
       "      <td>NRG</td>\n",
       "      <td>NRG</td>\n",
       "      <td>NaN</td>\n",
       "      <td>0.0</td>\n",
       "      <td>0.0</td>\n",
       "      <td>...</td>\n",
       "      <td>NaN</td>\n",
       "      <td>NaN</td>\n",
       "      <td>NaN</td>\n",
       "      <td>NaN</td>\n",
       "      <td>NaN</td>\n",
       "      <td>NaN</td>\n",
       "      <td>NaN</td>\n",
       "      <td>NaN</td>\n",
       "      <td>NaN</td>\n",
       "      <td>NaN</td>\n",
       "    </tr>\n",
       "    <tr>\n",
       "      <th>2</th>\n",
       "      <td>TRAIN082223</td>\n",
       "      <td>crop_partial_data/TRAIN082223_optic_disc.jpg</td>\n",
       "      <td>NRG</td>\n",
       "      <td>TRAIN053392</td>\n",
       "      <td>55.0</td>\n",
       "      <td>NRG</td>\n",
       "      <td>NRG</td>\n",
       "      <td>NaN</td>\n",
       "      <td>0.0</td>\n",
       "      <td>0.0</td>\n",
       "      <td>...</td>\n",
       "      <td>NaN</td>\n",
       "      <td>NaN</td>\n",
       "      <td>NaN</td>\n",
       "      <td>NaN</td>\n",
       "      <td>NaN</td>\n",
       "      <td>NaN</td>\n",
       "      <td>NaN</td>\n",
       "      <td>NaN</td>\n",
       "      <td>NaN</td>\n",
       "      <td>NaN</td>\n",
       "    </tr>\n",
       "    <tr>\n",
       "      <th>3</th>\n",
       "      <td>TRAIN083749</td>\n",
       "      <td>crop_partial_data/TRAIN083749_optic_disc.jpg</td>\n",
       "      <td>NRG</td>\n",
       "      <td>NaN</td>\n",
       "      <td>63.0</td>\n",
       "      <td>U</td>\n",
       "      <td>NaN</td>\n",
       "      <td>NRG</td>\n",
       "      <td>0.0</td>\n",
       "      <td>0.0</td>\n",
       "      <td>...</td>\n",
       "      <td>0.0</td>\n",
       "      <td>0.0</td>\n",
       "      <td>0.0</td>\n",
       "      <td>0.0</td>\n",
       "      <td>0.0</td>\n",
       "      <td>0.0</td>\n",
       "      <td>0.0</td>\n",
       "      <td>0.0</td>\n",
       "      <td>0.0</td>\n",
       "      <td>0.0</td>\n",
       "    </tr>\n",
       "    <tr>\n",
       "      <th>4</th>\n",
       "      <td>TRAIN003744</td>\n",
       "      <td>crop_partial_data/TRAIN003744_optic_disc.jpg</td>\n",
       "      <td>NRG</td>\n",
       "      <td>TRAIN083851</td>\n",
       "      <td>63.0</td>\n",
       "      <td>NRG</td>\n",
       "      <td>NRG</td>\n",
       "      <td>NaN</td>\n",
       "      <td>0.0</td>\n",
       "      <td>0.0</td>\n",
       "      <td>...</td>\n",
       "      <td>NaN</td>\n",
       "      <td>NaN</td>\n",
       "      <td>NaN</td>\n",
       "      <td>NaN</td>\n",
       "      <td>NaN</td>\n",
       "      <td>NaN</td>\n",
       "      <td>NaN</td>\n",
       "      <td>NaN</td>\n",
       "      <td>NaN</td>\n",
       "      <td>NaN</td>\n",
       "    </tr>\n",
       "    <tr>\n",
       "      <th>...</th>\n",
       "      <td>...</td>\n",
       "      <td>...</td>\n",
       "      <td>...</td>\n",
       "      <td>...</td>\n",
       "      <td>...</td>\n",
       "      <td>...</td>\n",
       "      <td>...</td>\n",
       "      <td>...</td>\n",
       "      <td>...</td>\n",
       "      <td>...</td>\n",
       "      <td>...</td>\n",
       "      <td>...</td>\n",
       "      <td>...</td>\n",
       "      <td>...</td>\n",
       "      <td>...</td>\n",
       "      <td>...</td>\n",
       "      <td>...</td>\n",
       "      <td>...</td>\n",
       "      <td>...</td>\n",
       "      <td>...</td>\n",
       "      <td>...</td>\n",
       "    </tr>\n",
       "    <tr>\n",
       "      <th>36421</th>\n",
       "      <td>TRAIN001115</td>\n",
       "      <td>crop_partial_data/TRAIN001115_optic_disc.jpg</td>\n",
       "      <td>RG</td>\n",
       "      <td>TRAIN067312</td>\n",
       "      <td>52.0</td>\n",
       "      <td>NRG</td>\n",
       "      <td>RG</td>\n",
       "      <td>RG</td>\n",
       "      <td>0.0</td>\n",
       "      <td>0.0</td>\n",
       "      <td>...</td>\n",
       "      <td>1.0</td>\n",
       "      <td>0.0</td>\n",
       "      <td>1.0</td>\n",
       "      <td>0.0</td>\n",
       "      <td>0.0</td>\n",
       "      <td>0.0</td>\n",
       "      <td>0.0</td>\n",
       "      <td>0.0</td>\n",
       "      <td>0.0</td>\n",
       "      <td>0.0</td>\n",
       "    </tr>\n",
       "    <tr>\n",
       "      <th>36422</th>\n",
       "      <td>TRAIN054146</td>\n",
       "      <td>crop_partial_data/TRAIN054146_optic_disc.jpg</td>\n",
       "      <td>NRG</td>\n",
       "      <td>TRAIN080951</td>\n",
       "      <td>65.0</td>\n",
       "      <td>NRG</td>\n",
       "      <td>NRG</td>\n",
       "      <td>NaN</td>\n",
       "      <td>0.0</td>\n",
       "      <td>0.0</td>\n",
       "      <td>...</td>\n",
       "      <td>NaN</td>\n",
       "      <td>NaN</td>\n",
       "      <td>NaN</td>\n",
       "      <td>NaN</td>\n",
       "      <td>NaN</td>\n",
       "      <td>NaN</td>\n",
       "      <td>NaN</td>\n",
       "      <td>NaN</td>\n",
       "      <td>NaN</td>\n",
       "      <td>NaN</td>\n",
       "    </tr>\n",
       "    <tr>\n",
       "      <th>36423</th>\n",
       "      <td>TRAIN027136</td>\n",
       "      <td>crop_partial_data/TRAIN027136_optic_disc.jpg</td>\n",
       "      <td>NRG</td>\n",
       "      <td>TRAIN076005</td>\n",
       "      <td>58.0</td>\n",
       "      <td>NRG</td>\n",
       "      <td>NRG</td>\n",
       "      <td>NaN</td>\n",
       "      <td>0.0</td>\n",
       "      <td>0.0</td>\n",
       "      <td>...</td>\n",
       "      <td>NaN</td>\n",
       "      <td>NaN</td>\n",
       "      <td>NaN</td>\n",
       "      <td>NaN</td>\n",
       "      <td>NaN</td>\n",
       "      <td>NaN</td>\n",
       "      <td>NaN</td>\n",
       "      <td>NaN</td>\n",
       "      <td>NaN</td>\n",
       "      <td>NaN</td>\n",
       "    </tr>\n",
       "    <tr>\n",
       "      <th>36424</th>\n",
       "      <td>TRAIN040821</td>\n",
       "      <td>crop_partial_data/TRAIN040821_optic_disc.jpg</td>\n",
       "      <td>NRG</td>\n",
       "      <td>TRAIN041969</td>\n",
       "      <td>66.0</td>\n",
       "      <td>NRG</td>\n",
       "      <td>NRG</td>\n",
       "      <td>NaN</td>\n",
       "      <td>0.0</td>\n",
       "      <td>0.0</td>\n",
       "      <td>...</td>\n",
       "      <td>NaN</td>\n",
       "      <td>NaN</td>\n",
       "      <td>NaN</td>\n",
       "      <td>NaN</td>\n",
       "      <td>NaN</td>\n",
       "      <td>NaN</td>\n",
       "      <td>NaN</td>\n",
       "      <td>NaN</td>\n",
       "      <td>NaN</td>\n",
       "      <td>NaN</td>\n",
       "    </tr>\n",
       "    <tr>\n",
       "      <th>36425</th>\n",
       "      <td>TRAIN015163</td>\n",
       "      <td>crop_partial_data/TRAIN015163_optic_disc.jpg</td>\n",
       "      <td>NRG</td>\n",
       "      <td>NaN</td>\n",
       "      <td>62.0</td>\n",
       "      <td>NRG</td>\n",
       "      <td>NRG</td>\n",
       "      <td>NaN</td>\n",
       "      <td>0.0</td>\n",
       "      <td>0.0</td>\n",
       "      <td>...</td>\n",
       "      <td>NaN</td>\n",
       "      <td>NaN</td>\n",
       "      <td>NaN</td>\n",
       "      <td>NaN</td>\n",
       "      <td>NaN</td>\n",
       "      <td>NaN</td>\n",
       "      <td>NaN</td>\n",
       "      <td>NaN</td>\n",
       "      <td>NaN</td>\n",
       "      <td>NaN</td>\n",
       "    </tr>\n",
       "  </tbody>\n",
       "</table>\n",
       "<p>36426 rows × 38 columns</p>\n",
       "</div>"
      ],
      "text/plain": [
       "          image_id                                      filename Final Label  \\\n",
       "0      TRAIN006053  crop_partial_data/TRAIN006053_optic_disc.jpg         NRG   \n",
       "1      TRAIN049372  crop_partial_data/TRAIN049372_optic_disc.jpg         NRG   \n",
       "2      TRAIN082223  crop_partial_data/TRAIN082223_optic_disc.jpg         NRG   \n",
       "3      TRAIN083749  crop_partial_data/TRAIN083749_optic_disc.jpg         NRG   \n",
       "4      TRAIN003744  crop_partial_data/TRAIN003744_optic_disc.jpg         NRG   \n",
       "...            ...                                           ...         ...   \n",
       "36421  TRAIN001115  crop_partial_data/TRAIN001115_optic_disc.jpg          RG   \n",
       "36422  TRAIN054146  crop_partial_data/TRAIN054146_optic_disc.jpg         NRG   \n",
       "36423  TRAIN027136  crop_partial_data/TRAIN027136_optic_disc.jpg         NRG   \n",
       "36424  TRAIN040821  crop_partial_data/TRAIN040821_optic_disc.jpg         NRG   \n",
       "36425  TRAIN015163  crop_partial_data/TRAIN015163_optic_disc.jpg         NRG   \n",
       "\n",
       "      Fellow Eye ID   Age Label G1 Label G2 Label G3  G1 ANRS  G1 ANRI  ...  \\\n",
       "0       TRAIN069418  47.0      NRG      NRG      NaN      0.0      0.0  ...   \n",
       "1       TRAIN014706  62.0      NRG      NRG      NaN      0.0      0.0  ...   \n",
       "2       TRAIN053392  55.0      NRG      NRG      NaN      0.0      0.0  ...   \n",
       "3               NaN  63.0        U      NaN      NRG      0.0      0.0  ...   \n",
       "4       TRAIN083851  63.0      NRG      NRG      NaN      0.0      0.0  ...   \n",
       "...             ...   ...      ...      ...      ...      ...      ...  ...   \n",
       "36421   TRAIN067312  52.0      NRG       RG       RG      0.0      0.0  ...   \n",
       "36422   TRAIN080951  65.0      NRG      NRG      NaN      0.0      0.0  ...   \n",
       "36423   TRAIN076005  58.0      NRG      NRG      NaN      0.0      0.0  ...   \n",
       "36424   TRAIN041969  66.0      NRG      NRG      NaN      0.0      0.0  ...   \n",
       "36425           NaN  62.0      NRG      NRG      NaN      0.0      0.0  ...   \n",
       "\n",
       "       G3 ANRS  G3 ANRI  G3 RNFLDS  G3 RNFLDI  G3 BCLVS  G3 BCLVI  G3 NVT  \\\n",
       "0          NaN      NaN        NaN        NaN       NaN       NaN     NaN   \n",
       "1          NaN      NaN        NaN        NaN       NaN       NaN     NaN   \n",
       "2          NaN      NaN        NaN        NaN       NaN       NaN     NaN   \n",
       "3          0.0      0.0        0.0        0.0       0.0       0.0     0.0   \n",
       "4          NaN      NaN        NaN        NaN       NaN       NaN     NaN   \n",
       "...        ...      ...        ...        ...       ...       ...     ...   \n",
       "36421      1.0      0.0        1.0        0.0       0.0       0.0     0.0   \n",
       "36422      NaN      NaN        NaN        NaN       NaN       NaN     NaN   \n",
       "36423      NaN      NaN        NaN        NaN       NaN       NaN     NaN   \n",
       "36424      NaN      NaN        NaN        NaN       NaN       NaN     NaN   \n",
       "36425      NaN      NaN        NaN        NaN       NaN       NaN     NaN   \n",
       "\n",
       "       G3 DH  G3 LD  G3 LC  \n",
       "0        NaN    NaN    NaN  \n",
       "1        NaN    NaN    NaN  \n",
       "2        NaN    NaN    NaN  \n",
       "3        0.0    0.0    0.0  \n",
       "4        NaN    NaN    NaN  \n",
       "...      ...    ...    ...  \n",
       "36421    0.0    0.0    0.0  \n",
       "36422    NaN    NaN    NaN  \n",
       "36423    NaN    NaN    NaN  \n",
       "36424    NaN    NaN    NaN  \n",
       "36425    NaN    NaN    NaN  \n",
       "\n",
       "[36426 rows x 38 columns]"
      ]
     },
     "execution_count": 98,
     "metadata": {},
     "output_type": "execute_result"
    }
   ],
   "source": [
    "data"
   ]
  },
  {
   "cell_type": "code",
   "execution_count": 99,
   "metadata": {},
   "outputs": [
    {
     "data": {
      "text/html": [
       "<div>\n",
       "<style scoped>\n",
       "    .dataframe tbody tr th:only-of-type {\n",
       "        vertical-align: middle;\n",
       "    }\n",
       "\n",
       "    .dataframe tbody tr th {\n",
       "        vertical-align: top;\n",
       "    }\n",
       "\n",
       "    .dataframe thead th {\n",
       "        text-align: right;\n",
       "    }\n",
       "</style>\n",
       "<table border=\"1\" class=\"dataframe\">\n",
       "  <thead>\n",
       "    <tr style=\"text-align: right;\">\n",
       "      <th></th>\n",
       "      <th>image_id</th>\n",
       "      <th>filename</th>\n",
       "      <th>Final Label</th>\n",
       "    </tr>\n",
       "  </thead>\n",
       "  <tbody>\n",
       "    <tr>\n",
       "      <th>0</th>\n",
       "      <td>TRAIN006053</td>\n",
       "      <td>crop_partial_data/TRAIN006053_optic_disc.jpg</td>\n",
       "      <td>NRG</td>\n",
       "    </tr>\n",
       "    <tr>\n",
       "      <th>1</th>\n",
       "      <td>TRAIN049372</td>\n",
       "      <td>crop_partial_data/TRAIN049372_optic_disc.jpg</td>\n",
       "      <td>NRG</td>\n",
       "    </tr>\n",
       "    <tr>\n",
       "      <th>2</th>\n",
       "      <td>TRAIN082223</td>\n",
       "      <td>crop_partial_data/TRAIN082223_optic_disc.jpg</td>\n",
       "      <td>NRG</td>\n",
       "    </tr>\n",
       "    <tr>\n",
       "      <th>3</th>\n",
       "      <td>TRAIN083749</td>\n",
       "      <td>crop_partial_data/TRAIN083749_optic_disc.jpg</td>\n",
       "      <td>NRG</td>\n",
       "    </tr>\n",
       "    <tr>\n",
       "      <th>4</th>\n",
       "      <td>TRAIN003744</td>\n",
       "      <td>crop_partial_data/TRAIN003744_optic_disc.jpg</td>\n",
       "      <td>NRG</td>\n",
       "    </tr>\n",
       "    <tr>\n",
       "      <th>...</th>\n",
       "      <td>...</td>\n",
       "      <td>...</td>\n",
       "      <td>...</td>\n",
       "    </tr>\n",
       "    <tr>\n",
       "      <th>36421</th>\n",
       "      <td>TRAIN001115</td>\n",
       "      <td>crop_partial_data/TRAIN001115_optic_disc.jpg</td>\n",
       "      <td>RG</td>\n",
       "    </tr>\n",
       "    <tr>\n",
       "      <th>36422</th>\n",
       "      <td>TRAIN054146</td>\n",
       "      <td>crop_partial_data/TRAIN054146_optic_disc.jpg</td>\n",
       "      <td>NRG</td>\n",
       "    </tr>\n",
       "    <tr>\n",
       "      <th>36423</th>\n",
       "      <td>TRAIN027136</td>\n",
       "      <td>crop_partial_data/TRAIN027136_optic_disc.jpg</td>\n",
       "      <td>NRG</td>\n",
       "    </tr>\n",
       "    <tr>\n",
       "      <th>36424</th>\n",
       "      <td>TRAIN040821</td>\n",
       "      <td>crop_partial_data/TRAIN040821_optic_disc.jpg</td>\n",
       "      <td>NRG</td>\n",
       "    </tr>\n",
       "    <tr>\n",
       "      <th>36425</th>\n",
       "      <td>TRAIN015163</td>\n",
       "      <td>crop_partial_data/TRAIN015163_optic_disc.jpg</td>\n",
       "      <td>NRG</td>\n",
       "    </tr>\n",
       "  </tbody>\n",
       "</table>\n",
       "<p>36426 rows × 3 columns</p>\n",
       "</div>"
      ],
      "text/plain": [
       "          image_id                                      filename Final Label\n",
       "0      TRAIN006053  crop_partial_data/TRAIN006053_optic_disc.jpg         NRG\n",
       "1      TRAIN049372  crop_partial_data/TRAIN049372_optic_disc.jpg         NRG\n",
       "2      TRAIN082223  crop_partial_data/TRAIN082223_optic_disc.jpg         NRG\n",
       "3      TRAIN083749  crop_partial_data/TRAIN083749_optic_disc.jpg         NRG\n",
       "4      TRAIN003744  crop_partial_data/TRAIN003744_optic_disc.jpg         NRG\n",
       "...            ...                                           ...         ...\n",
       "36421  TRAIN001115  crop_partial_data/TRAIN001115_optic_disc.jpg          RG\n",
       "36422  TRAIN054146  crop_partial_data/TRAIN054146_optic_disc.jpg         NRG\n",
       "36423  TRAIN027136  crop_partial_data/TRAIN027136_optic_disc.jpg         NRG\n",
       "36424  TRAIN040821  crop_partial_data/TRAIN040821_optic_disc.jpg         NRG\n",
       "36425  TRAIN015163  crop_partial_data/TRAIN015163_optic_disc.jpg         NRG\n",
       "\n",
       "[36426 rows x 3 columns]"
      ]
     },
     "execution_count": 99,
     "metadata": {},
     "output_type": "execute_result"
    }
   ],
   "source": [
    "new_data = data[['image_id', 'filename','Final Label']].copy()\n",
    "new_data"
   ]
  },
  {
   "cell_type": "code",
   "execution_count": 100,
   "metadata": {},
   "outputs": [
    {
     "data": {
      "text/html": [
       "<div>\n",
       "<style scoped>\n",
       "    .dataframe tbody tr th:only-of-type {\n",
       "        vertical-align: middle;\n",
       "    }\n",
       "\n",
       "    .dataframe tbody tr th {\n",
       "        vertical-align: top;\n",
       "    }\n",
       "\n",
       "    .dataframe thead th {\n",
       "        text-align: right;\n",
       "    }\n",
       "</style>\n",
       "<table border=\"1\" class=\"dataframe\">\n",
       "  <thead>\n",
       "    <tr style=\"text-align: right;\">\n",
       "      <th></th>\n",
       "      <th>image_id</th>\n",
       "      <th>filename</th>\n",
       "      <th>Final Label</th>\n",
       "      <th>img</th>\n",
       "    </tr>\n",
       "  </thead>\n",
       "  <tbody>\n",
       "    <tr>\n",
       "      <th>0</th>\n",
       "      <td>TRAIN006053</td>\n",
       "      <td>crop_partial_data/TRAIN006053_optic_disc.jpg</td>\n",
       "      <td>NRG</td>\n",
       "      <td>None</td>\n",
       "    </tr>\n",
       "    <tr>\n",
       "      <th>1</th>\n",
       "      <td>TRAIN049372</td>\n",
       "      <td>crop_partial_data/TRAIN049372_optic_disc.jpg</td>\n",
       "      <td>NRG</td>\n",
       "      <td>None</td>\n",
       "    </tr>\n",
       "    <tr>\n",
       "      <th>2</th>\n",
       "      <td>TRAIN082223</td>\n",
       "      <td>crop_partial_data/TRAIN082223_optic_disc.jpg</td>\n",
       "      <td>NRG</td>\n",
       "      <td>None</td>\n",
       "    </tr>\n",
       "    <tr>\n",
       "      <th>3</th>\n",
       "      <td>TRAIN083749</td>\n",
       "      <td>crop_partial_data/TRAIN083749_optic_disc.jpg</td>\n",
       "      <td>NRG</td>\n",
       "      <td>None</td>\n",
       "    </tr>\n",
       "    <tr>\n",
       "      <th>4</th>\n",
       "      <td>TRAIN003744</td>\n",
       "      <td>crop_partial_data/TRAIN003744_optic_disc.jpg</td>\n",
       "      <td>NRG</td>\n",
       "      <td>None</td>\n",
       "    </tr>\n",
       "    <tr>\n",
       "      <th>...</th>\n",
       "      <td>...</td>\n",
       "      <td>...</td>\n",
       "      <td>...</td>\n",
       "      <td>...</td>\n",
       "    </tr>\n",
       "    <tr>\n",
       "      <th>36421</th>\n",
       "      <td>TRAIN001115</td>\n",
       "      <td>crop_partial_data/TRAIN001115_optic_disc.jpg</td>\n",
       "      <td>RG</td>\n",
       "      <td>None</td>\n",
       "    </tr>\n",
       "    <tr>\n",
       "      <th>36422</th>\n",
       "      <td>TRAIN054146</td>\n",
       "      <td>crop_partial_data/TRAIN054146_optic_disc.jpg</td>\n",
       "      <td>NRG</td>\n",
       "      <td>None</td>\n",
       "    </tr>\n",
       "    <tr>\n",
       "      <th>36423</th>\n",
       "      <td>TRAIN027136</td>\n",
       "      <td>crop_partial_data/TRAIN027136_optic_disc.jpg</td>\n",
       "      <td>NRG</td>\n",
       "      <td>None</td>\n",
       "    </tr>\n",
       "    <tr>\n",
       "      <th>36424</th>\n",
       "      <td>TRAIN040821</td>\n",
       "      <td>crop_partial_data/TRAIN040821_optic_disc.jpg</td>\n",
       "      <td>NRG</td>\n",
       "      <td>None</td>\n",
       "    </tr>\n",
       "    <tr>\n",
       "      <th>36425</th>\n",
       "      <td>TRAIN015163</td>\n",
       "      <td>crop_partial_data/TRAIN015163_optic_disc.jpg</td>\n",
       "      <td>NRG</td>\n",
       "      <td>None</td>\n",
       "    </tr>\n",
       "  </tbody>\n",
       "</table>\n",
       "<p>36426 rows × 4 columns</p>\n",
       "</div>"
      ],
      "text/plain": [
       "          image_id                                      filename Final Label  \\\n",
       "0      TRAIN006053  crop_partial_data/TRAIN006053_optic_disc.jpg         NRG   \n",
       "1      TRAIN049372  crop_partial_data/TRAIN049372_optic_disc.jpg         NRG   \n",
       "2      TRAIN082223  crop_partial_data/TRAIN082223_optic_disc.jpg         NRG   \n",
       "3      TRAIN083749  crop_partial_data/TRAIN083749_optic_disc.jpg         NRG   \n",
       "4      TRAIN003744  crop_partial_data/TRAIN003744_optic_disc.jpg         NRG   \n",
       "...            ...                                           ...         ...   \n",
       "36421  TRAIN001115  crop_partial_data/TRAIN001115_optic_disc.jpg          RG   \n",
       "36422  TRAIN054146  crop_partial_data/TRAIN054146_optic_disc.jpg         NRG   \n",
       "36423  TRAIN027136  crop_partial_data/TRAIN027136_optic_disc.jpg         NRG   \n",
       "36424  TRAIN040821  crop_partial_data/TRAIN040821_optic_disc.jpg         NRG   \n",
       "36425  TRAIN015163  crop_partial_data/TRAIN015163_optic_disc.jpg         NRG   \n",
       "\n",
       "        img  \n",
       "0      None  \n",
       "1      None  \n",
       "2      None  \n",
       "3      None  \n",
       "4      None  \n",
       "...     ...  \n",
       "36421  None  \n",
       "36422  None  \n",
       "36423  None  \n",
       "36424  None  \n",
       "36425  None  \n",
       "\n",
       "[36426 rows x 4 columns]"
      ]
     },
     "execution_count": 100,
     "metadata": {},
     "output_type": "execute_result"
    }
   ],
   "source": [
    "new_data['img'] = None\n",
    "new_data"
   ]
  },
  {
   "cell_type": "code",
   "execution_count": 101,
   "metadata": {},
   "outputs": [],
   "source": [
    "from PIL import Image"
   ]
  },
  {
   "cell_type": "code",
   "execution_count": 102,
   "metadata": {},
   "outputs": [],
   "source": [
    "for index, row in new_data.iterrows():\n",
    "    # print(index, row)\n",
    "    f = new_data.loc[index, 'filename']\n",
    "    img = Image.open(f)\n",
    "    new_data.at[index, 'img'] = img"
   ]
  },
  {
   "cell_type": "code",
   "execution_count": 103,
   "metadata": {},
   "outputs": [
    {
     "data": {
      "text/html": [
       "<div>\n",
       "<style scoped>\n",
       "    .dataframe tbody tr th:only-of-type {\n",
       "        vertical-align: middle;\n",
       "    }\n",
       "\n",
       "    .dataframe tbody tr th {\n",
       "        vertical-align: top;\n",
       "    }\n",
       "\n",
       "    .dataframe thead th {\n",
       "        text-align: right;\n",
       "    }\n",
       "</style>\n",
       "<table border=\"1\" class=\"dataframe\">\n",
       "  <thead>\n",
       "    <tr style=\"text-align: right;\">\n",
       "      <th></th>\n",
       "      <th>image_id</th>\n",
       "      <th>filename</th>\n",
       "      <th>Final Label</th>\n",
       "      <th>img</th>\n",
       "    </tr>\n",
       "  </thead>\n",
       "  <tbody>\n",
       "    <tr>\n",
       "      <th>0</th>\n",
       "      <td>TRAIN006053</td>\n",
       "      <td>crop_partial_data/TRAIN006053_optic_disc.jpg</td>\n",
       "      <td>NRG</td>\n",
       "      <td>&lt;PIL.JpegImagePlugin.JpegImageFile image mode=...</td>\n",
       "    </tr>\n",
       "    <tr>\n",
       "      <th>1</th>\n",
       "      <td>TRAIN049372</td>\n",
       "      <td>crop_partial_data/TRAIN049372_optic_disc.jpg</td>\n",
       "      <td>NRG</td>\n",
       "      <td>&lt;PIL.JpegImagePlugin.JpegImageFile image mode=...</td>\n",
       "    </tr>\n",
       "    <tr>\n",
       "      <th>2</th>\n",
       "      <td>TRAIN082223</td>\n",
       "      <td>crop_partial_data/TRAIN082223_optic_disc.jpg</td>\n",
       "      <td>NRG</td>\n",
       "      <td>&lt;PIL.JpegImagePlugin.JpegImageFile image mode=...</td>\n",
       "    </tr>\n",
       "    <tr>\n",
       "      <th>3</th>\n",
       "      <td>TRAIN083749</td>\n",
       "      <td>crop_partial_data/TRAIN083749_optic_disc.jpg</td>\n",
       "      <td>NRG</td>\n",
       "      <td>&lt;PIL.JpegImagePlugin.JpegImageFile image mode=...</td>\n",
       "    </tr>\n",
       "    <tr>\n",
       "      <th>4</th>\n",
       "      <td>TRAIN003744</td>\n",
       "      <td>crop_partial_data/TRAIN003744_optic_disc.jpg</td>\n",
       "      <td>NRG</td>\n",
       "      <td>&lt;PIL.JpegImagePlugin.JpegImageFile image mode=...</td>\n",
       "    </tr>\n",
       "    <tr>\n",
       "      <th>...</th>\n",
       "      <td>...</td>\n",
       "      <td>...</td>\n",
       "      <td>...</td>\n",
       "      <td>...</td>\n",
       "    </tr>\n",
       "    <tr>\n",
       "      <th>36421</th>\n",
       "      <td>TRAIN001115</td>\n",
       "      <td>crop_partial_data/TRAIN001115_optic_disc.jpg</td>\n",
       "      <td>RG</td>\n",
       "      <td>&lt;PIL.JpegImagePlugin.JpegImageFile image mode=...</td>\n",
       "    </tr>\n",
       "    <tr>\n",
       "      <th>36422</th>\n",
       "      <td>TRAIN054146</td>\n",
       "      <td>crop_partial_data/TRAIN054146_optic_disc.jpg</td>\n",
       "      <td>NRG</td>\n",
       "      <td>&lt;PIL.JpegImagePlugin.JpegImageFile image mode=...</td>\n",
       "    </tr>\n",
       "    <tr>\n",
       "      <th>36423</th>\n",
       "      <td>TRAIN027136</td>\n",
       "      <td>crop_partial_data/TRAIN027136_optic_disc.jpg</td>\n",
       "      <td>NRG</td>\n",
       "      <td>&lt;PIL.JpegImagePlugin.JpegImageFile image mode=...</td>\n",
       "    </tr>\n",
       "    <tr>\n",
       "      <th>36424</th>\n",
       "      <td>TRAIN040821</td>\n",
       "      <td>crop_partial_data/TRAIN040821_optic_disc.jpg</td>\n",
       "      <td>NRG</td>\n",
       "      <td>&lt;PIL.JpegImagePlugin.JpegImageFile image mode=...</td>\n",
       "    </tr>\n",
       "    <tr>\n",
       "      <th>36425</th>\n",
       "      <td>TRAIN015163</td>\n",
       "      <td>crop_partial_data/TRAIN015163_optic_disc.jpg</td>\n",
       "      <td>NRG</td>\n",
       "      <td>&lt;PIL.JpegImagePlugin.JpegImageFile image mode=...</td>\n",
       "    </tr>\n",
       "  </tbody>\n",
       "</table>\n",
       "<p>36426 rows × 4 columns</p>\n",
       "</div>"
      ],
      "text/plain": [
       "          image_id                                      filename Final Label  \\\n",
       "0      TRAIN006053  crop_partial_data/TRAIN006053_optic_disc.jpg         NRG   \n",
       "1      TRAIN049372  crop_partial_data/TRAIN049372_optic_disc.jpg         NRG   \n",
       "2      TRAIN082223  crop_partial_data/TRAIN082223_optic_disc.jpg         NRG   \n",
       "3      TRAIN083749  crop_partial_data/TRAIN083749_optic_disc.jpg         NRG   \n",
       "4      TRAIN003744  crop_partial_data/TRAIN003744_optic_disc.jpg         NRG   \n",
       "...            ...                                           ...         ...   \n",
       "36421  TRAIN001115  crop_partial_data/TRAIN001115_optic_disc.jpg          RG   \n",
       "36422  TRAIN054146  crop_partial_data/TRAIN054146_optic_disc.jpg         NRG   \n",
       "36423  TRAIN027136  crop_partial_data/TRAIN027136_optic_disc.jpg         NRG   \n",
       "36424  TRAIN040821  crop_partial_data/TRAIN040821_optic_disc.jpg         NRG   \n",
       "36425  TRAIN015163  crop_partial_data/TRAIN015163_optic_disc.jpg         NRG   \n",
       "\n",
       "                                                     img  \n",
       "0      <PIL.JpegImagePlugin.JpegImageFile image mode=...  \n",
       "1      <PIL.JpegImagePlugin.JpegImageFile image mode=...  \n",
       "2      <PIL.JpegImagePlugin.JpegImageFile image mode=...  \n",
       "3      <PIL.JpegImagePlugin.JpegImageFile image mode=...  \n",
       "4      <PIL.JpegImagePlugin.JpegImageFile image mode=...  \n",
       "...                                                  ...  \n",
       "36421  <PIL.JpegImagePlugin.JpegImageFile image mode=...  \n",
       "36422  <PIL.JpegImagePlugin.JpegImageFile image mode=...  \n",
       "36423  <PIL.JpegImagePlugin.JpegImageFile image mode=...  \n",
       "36424  <PIL.JpegImagePlugin.JpegImageFile image mode=...  \n",
       "36425  <PIL.JpegImagePlugin.JpegImageFile image mode=...  \n",
       "\n",
       "[36426 rows x 4 columns]"
      ]
     },
     "execution_count": 103,
     "metadata": {},
     "output_type": "execute_result"
    }
   ],
   "source": [
    "new_data"
   ]
  },
  {
   "cell_type": "code",
   "execution_count": 134,
   "metadata": {},
   "outputs": [
    {
     "data": {
      "text/html": [
       "<div>\n",
       "<style scoped>\n",
       "    .dataframe tbody tr th:only-of-type {\n",
       "        vertical-align: middle;\n",
       "    }\n",
       "\n",
       "    .dataframe tbody tr th {\n",
       "        vertical-align: top;\n",
       "    }\n",
       "\n",
       "    .dataframe thead th {\n",
       "        text-align: right;\n",
       "    }\n",
       "</style>\n",
       "<table border=\"1\" class=\"dataframe\">\n",
       "  <thead>\n",
       "    <tr style=\"text-align: right;\">\n",
       "      <th></th>\n",
       "      <th>img</th>\n",
       "      <th>Final Label</th>\n",
       "    </tr>\n",
       "  </thead>\n",
       "  <tbody>\n",
       "    <tr>\n",
       "      <th>0</th>\n",
       "      <td>&lt;PIL.JpegImagePlugin.JpegImageFile image mode=...</td>\n",
       "      <td>NRG</td>\n",
       "    </tr>\n",
       "    <tr>\n",
       "      <th>1</th>\n",
       "      <td>&lt;PIL.JpegImagePlugin.JpegImageFile image mode=...</td>\n",
       "      <td>NRG</td>\n",
       "    </tr>\n",
       "    <tr>\n",
       "      <th>2</th>\n",
       "      <td>&lt;PIL.JpegImagePlugin.JpegImageFile image mode=...</td>\n",
       "      <td>NRG</td>\n",
       "    </tr>\n",
       "    <tr>\n",
       "      <th>3</th>\n",
       "      <td>&lt;PIL.JpegImagePlugin.JpegImageFile image mode=...</td>\n",
       "      <td>NRG</td>\n",
       "    </tr>\n",
       "    <tr>\n",
       "      <th>4</th>\n",
       "      <td>&lt;PIL.JpegImagePlugin.JpegImageFile image mode=...</td>\n",
       "      <td>NRG</td>\n",
       "    </tr>\n",
       "    <tr>\n",
       "      <th>...</th>\n",
       "      <td>...</td>\n",
       "      <td>...</td>\n",
       "    </tr>\n",
       "    <tr>\n",
       "      <th>36421</th>\n",
       "      <td>&lt;PIL.JpegImagePlugin.JpegImageFile image mode=...</td>\n",
       "      <td>RG</td>\n",
       "    </tr>\n",
       "    <tr>\n",
       "      <th>36422</th>\n",
       "      <td>&lt;PIL.JpegImagePlugin.JpegImageFile image mode=...</td>\n",
       "      <td>NRG</td>\n",
       "    </tr>\n",
       "    <tr>\n",
       "      <th>36423</th>\n",
       "      <td>&lt;PIL.JpegImagePlugin.JpegImageFile image mode=...</td>\n",
       "      <td>NRG</td>\n",
       "    </tr>\n",
       "    <tr>\n",
       "      <th>36424</th>\n",
       "      <td>&lt;PIL.JpegImagePlugin.JpegImageFile image mode=...</td>\n",
       "      <td>NRG</td>\n",
       "    </tr>\n",
       "    <tr>\n",
       "      <th>36425</th>\n",
       "      <td>&lt;PIL.JpegImagePlugin.JpegImageFile image mode=...</td>\n",
       "      <td>NRG</td>\n",
       "    </tr>\n",
       "  </tbody>\n",
       "</table>\n",
       "<p>36426 rows × 2 columns</p>\n",
       "</div>"
      ],
      "text/plain": [
       "                                                     img Final Label\n",
       "0      <PIL.JpegImagePlugin.JpegImageFile image mode=...         NRG\n",
       "1      <PIL.JpegImagePlugin.JpegImageFile image mode=...         NRG\n",
       "2      <PIL.JpegImagePlugin.JpegImageFile image mode=...         NRG\n",
       "3      <PIL.JpegImagePlugin.JpegImageFile image mode=...         NRG\n",
       "4      <PIL.JpegImagePlugin.JpegImageFile image mode=...         NRG\n",
       "...                                                  ...         ...\n",
       "36421  <PIL.JpegImagePlugin.JpegImageFile image mode=...          RG\n",
       "36422  <PIL.JpegImagePlugin.JpegImageFile image mode=...         NRG\n",
       "36423  <PIL.JpegImagePlugin.JpegImageFile image mode=...         NRG\n",
       "36424  <PIL.JpegImagePlugin.JpegImageFile image mode=...         NRG\n",
       "36425  <PIL.JpegImagePlugin.JpegImageFile image mode=...         NRG\n",
       "\n",
       "[36426 rows x 2 columns]"
      ]
     },
     "execution_count": 134,
     "metadata": {},
     "output_type": "execute_result"
    }
   ],
   "source": [
    "new_data2 = new_data[['img', 'Final Label']].copy()\n",
    "new_data2"
   ]
  },
  {
   "cell_type": "code",
   "execution_count": 135,
   "metadata": {},
   "outputs": [
    {
     "data": {
      "text/html": [
       "<div>\n",
       "<style scoped>\n",
       "    .dataframe tbody tr th:only-of-type {\n",
       "        vertical-align: middle;\n",
       "    }\n",
       "\n",
       "    .dataframe tbody tr th {\n",
       "        vertical-align: top;\n",
       "    }\n",
       "\n",
       "    .dataframe thead th {\n",
       "        text-align: right;\n",
       "    }\n",
       "</style>\n",
       "<table border=\"1\" class=\"dataframe\">\n",
       "  <thead>\n",
       "    <tr style=\"text-align: right;\">\n",
       "      <th></th>\n",
       "      <th>img</th>\n",
       "      <th>label</th>\n",
       "    </tr>\n",
       "  </thead>\n",
       "  <tbody>\n",
       "    <tr>\n",
       "      <th>0</th>\n",
       "      <td>&lt;PIL.JpegImagePlugin.JpegImageFile image mode=...</td>\n",
       "      <td>NRG</td>\n",
       "    </tr>\n",
       "    <tr>\n",
       "      <th>1</th>\n",
       "      <td>&lt;PIL.JpegImagePlugin.JpegImageFile image mode=...</td>\n",
       "      <td>NRG</td>\n",
       "    </tr>\n",
       "    <tr>\n",
       "      <th>2</th>\n",
       "      <td>&lt;PIL.JpegImagePlugin.JpegImageFile image mode=...</td>\n",
       "      <td>NRG</td>\n",
       "    </tr>\n",
       "    <tr>\n",
       "      <th>3</th>\n",
       "      <td>&lt;PIL.JpegImagePlugin.JpegImageFile image mode=...</td>\n",
       "      <td>NRG</td>\n",
       "    </tr>\n",
       "    <tr>\n",
       "      <th>4</th>\n",
       "      <td>&lt;PIL.JpegImagePlugin.JpegImageFile image mode=...</td>\n",
       "      <td>NRG</td>\n",
       "    </tr>\n",
       "    <tr>\n",
       "      <th>...</th>\n",
       "      <td>...</td>\n",
       "      <td>...</td>\n",
       "    </tr>\n",
       "    <tr>\n",
       "      <th>36421</th>\n",
       "      <td>&lt;PIL.JpegImagePlugin.JpegImageFile image mode=...</td>\n",
       "      <td>RG</td>\n",
       "    </tr>\n",
       "    <tr>\n",
       "      <th>36422</th>\n",
       "      <td>&lt;PIL.JpegImagePlugin.JpegImageFile image mode=...</td>\n",
       "      <td>NRG</td>\n",
       "    </tr>\n",
       "    <tr>\n",
       "      <th>36423</th>\n",
       "      <td>&lt;PIL.JpegImagePlugin.JpegImageFile image mode=...</td>\n",
       "      <td>NRG</td>\n",
       "    </tr>\n",
       "    <tr>\n",
       "      <th>36424</th>\n",
       "      <td>&lt;PIL.JpegImagePlugin.JpegImageFile image mode=...</td>\n",
       "      <td>NRG</td>\n",
       "    </tr>\n",
       "    <tr>\n",
       "      <th>36425</th>\n",
       "      <td>&lt;PIL.JpegImagePlugin.JpegImageFile image mode=...</td>\n",
       "      <td>NRG</td>\n",
       "    </tr>\n",
       "  </tbody>\n",
       "</table>\n",
       "<p>36426 rows × 2 columns</p>\n",
       "</div>"
      ],
      "text/plain": [
       "                                                     img label\n",
       "0      <PIL.JpegImagePlugin.JpegImageFile image mode=...   NRG\n",
       "1      <PIL.JpegImagePlugin.JpegImageFile image mode=...   NRG\n",
       "2      <PIL.JpegImagePlugin.JpegImageFile image mode=...   NRG\n",
       "3      <PIL.JpegImagePlugin.JpegImageFile image mode=...   NRG\n",
       "4      <PIL.JpegImagePlugin.JpegImageFile image mode=...   NRG\n",
       "...                                                  ...   ...\n",
       "36421  <PIL.JpegImagePlugin.JpegImageFile image mode=...    RG\n",
       "36422  <PIL.JpegImagePlugin.JpegImageFile image mode=...   NRG\n",
       "36423  <PIL.JpegImagePlugin.JpegImageFile image mode=...   NRG\n",
       "36424  <PIL.JpegImagePlugin.JpegImageFile image mode=...   NRG\n",
       "36425  <PIL.JpegImagePlugin.JpegImageFile image mode=...   NRG\n",
       "\n",
       "[36426 rows x 2 columns]"
      ]
     },
     "execution_count": 135,
     "metadata": {},
     "output_type": "execute_result"
    }
   ],
   "source": [
    "new_data2.rename(columns={'Final Label': 'label'}, inplace = True)\n",
    "new_data2"
   ]
  },
  {
   "cell_type": "code",
   "execution_count": 136,
   "metadata": {},
   "outputs": [],
   "source": [
    "from collections import defaultdict\n",
    "from datasets import Dataset\n",
    "  \n",
    "data = defaultdict(list)\n",
    "for idx, row in new_data2.iterrows():\n",
    "    img = new_data2.at[idx, 'img']\n",
    "    data['img'].append(img)\n",
    "    data['label'].append(new_data2.at[idx, 'label'])\n",
    "  \n",
    "dataset = Dataset.from_dict(data)\n",
    "# dataset = dataset.filter(lambda example: example['image'] is not None)\n",
    "# dataset = dataset.filter(lambda example: example['label'] is not None)\n"
   ]
  },
  {
   "cell_type": "code",
   "execution_count": 137,
   "metadata": {},
   "outputs": [
    {
     "data": {
      "application/json": {
       "ascii": false,
       "bar_format": null,
       "colour": null,
       "elapsed": 0.0036084651947021484,
       "initial": 0,
       "n": 0,
       "ncols": null,
       "nrows": null,
       "postfix": null,
       "prefix": "Map",
       "rate": null,
       "total": 36426,
       "unit": " examples",
       "unit_divisor": 1000,
       "unit_scale": false
      },
      "application/vnd.jupyter.widget-view+json": {
       "model_id": "29e8f2b92a1843cfbd4ad71fcc612886",
       "version_major": 2,
       "version_minor": 0
      },
      "text/plain": [
       "Map:   0%|          | 0/36426 [00:00<?, ? examples/s]"
      ]
     },
     "metadata": {},
     "output_type": "display_data"
    }
   ],
   "source": [
    "from datasets import ClassLabel\n",
    "features = dataset.features.copy()\n",
    "features[\"label\"] = ClassLabel(names=[\"RG\", \"NRG\"])\n",
    "def adjust_labels(batch):\n",
    "    batch[\"label\"] = [sentiment for sentiment in batch[\"label\"]]\n",
    "    return batch\n",
    "dataset = dataset.map(adjust_labels, batched=True, features=features)"
   ]
  },
  {
   "cell_type": "code",
   "execution_count": 138,
   "metadata": {},
   "outputs": [
    {
     "data": {
      "text/plain": [
       "{'img': Image(decode=True, id=None),\n",
       " 'label': ClassLabel(names=['RG', 'NRG'], id=None)}"
      ]
     },
     "execution_count": 138,
     "metadata": {},
     "output_type": "execute_result"
    }
   ],
   "source": [
    "dataset.features"
   ]
  },
  {
   "cell_type": "code",
   "execution_count": 139,
   "metadata": {},
   "outputs": [],
   "source": [
    "splits = dataset.train_test_split(test_size=0.3)\n",
    "train_ds = splits['train']\n",
    "test_ds = splits['test']"
   ]
  },
  {
   "cell_type": "code",
   "execution_count": 140,
   "metadata": {},
   "outputs": [],
   "source": [
    "splits = train_ds.train_test_split(test_size=0.3)\n",
    "train_ds = splits['train']\n",
    "val_ds = splits['test']"
   ]
  },
  {
   "cell_type": "code",
   "execution_count": 141,
   "metadata": {},
   "outputs": [
    {
     "data": {
      "text/plain": [
       "7650"
      ]
     },
     "execution_count": 141,
     "metadata": {},
     "output_type": "execute_result"
    }
   ],
   "source": [
    "len(val_ds)"
   ]
  },
  {
   "cell_type": "code",
   "execution_count": 142,
   "metadata": {},
   "outputs": [
    {
     "data": {
      "text/plain": [
       "1"
      ]
     },
     "execution_count": 142,
     "metadata": {},
     "output_type": "execute_result"
    }
   ],
   "source": [
    "train_ds[0]['label']"
   ]
  },
  {
   "cell_type": "code",
   "execution_count": 143,
   "metadata": {},
   "outputs": [
    {
     "data": {
      "text/plain": [
       "{0: 'RG', 1: 'NRG'}"
      ]
     },
     "execution_count": 143,
     "metadata": {},
     "output_type": "execute_result"
    }
   ],
   "source": [
    "id2label = {id:label for id, label in enumerate(train_ds.features['label'].names)}\n",
    "label2id = {label:id for id,label in id2label.items()}\n",
    "id2label"
   ]
  },
  {
   "cell_type": "code",
   "execution_count": 144,
   "metadata": {},
   "outputs": [
    {
     "data": {
      "text/plain": [
       "'NRG'"
      ]
     },
     "execution_count": 144,
     "metadata": {},
     "output_type": "execute_result"
    }
   ],
   "source": [
    "id2label[train_ds[0]['label']]"
   ]
  },
  {
   "cell_type": "code",
   "execution_count": 145,
   "metadata": {},
   "outputs": [],
   "source": [
    "from transformers import ViTImageProcessor\n",
    "\n",
    "processor = ViTImageProcessor.from_pretrained(\"google/vit-base-patch16-224-in21k\")"
   ]
  },
  {
   "cell_type": "code",
   "execution_count": 146,
   "metadata": {},
   "outputs": [],
   "source": [
    "import torch"
   ]
  },
  {
   "cell_type": "code",
   "execution_count": 147,
   "metadata": {},
   "outputs": [],
   "source": [
    "from torchvision.transforms import (CenterCrop, \n",
    "                                    Compose, \n",
    "                                    Normalize, \n",
    "                                    RandomHorizontalFlip,\n",
    "                                    RandomResizedCrop, \n",
    "                                    Resize, \n",
    "                                    ToTensor)\n",
    "\n",
    "image_mean, image_std = processor.image_mean, processor.image_std\n",
    "size = processor.size[\"height\"]\n",
    "\n",
    "normalize = Normalize(mean=image_mean, std=image_std)\n",
    "_train_transforms = Compose(\n",
    "        [\n",
    "            RandomResizedCrop(size),\n",
    "            RandomHorizontalFlip(),\n",
    "            ToTensor(),\n",
    "            normalize,\n",
    "        ]\n",
    "    )\n",
    "\n",
    "_val_transforms = Compose(\n",
    "        [\n",
    "            Resize(size),\n",
    "            CenterCrop(size),\n",
    "            ToTensor(),\n",
    "            normalize,\n",
    "        ]\n",
    "    )\n",
    "\n",
    "def train_transforms(examples):\n",
    "    examples['pixel_values'] = [_train_transforms(image.convert(\"RGB\")) for image in examples['img']]\n",
    "    return examples\n",
    "\n",
    "def val_transforms(examples):\n",
    "    examples['pixel_values'] = [_val_transforms(image.convert(\"RGB\")) for image in examples['img']]\n",
    "    return examples"
   ]
  },
  {
   "cell_type": "code",
   "execution_count": 148,
   "metadata": {},
   "outputs": [],
   "source": [
    "train_ds.set_transform(train_transforms)\n",
    "val_ds.set_transform(val_transforms)\n",
    "test_ds.set_transform(val_transforms)"
   ]
  },
  {
   "cell_type": "code",
   "execution_count": 149,
   "metadata": {},
   "outputs": [
    {
     "data": {
      "text/plain": [
       "{'img': [<PIL.JpegImagePlugin.JpegImageFile image mode=RGB size=498x567 at 0x7C1E3CC7A560>,\n",
       "  <PIL.JpegImagePlugin.JpegImageFile image mode=RGB size=561x594 at 0x7C1E500928C0>],\n",
       " 'label': [1, 1],\n",
       " 'pixel_values': [tensor([[[ 0.5216,  0.5686,  0.6000,  ...,  0.3569,  0.3255,  0.3333],\n",
       "           [ 0.5451,  0.5765,  0.6078,  ...,  0.3725,  0.3412,  0.3490],\n",
       "           [ 0.5529,  0.5843,  0.6078,  ...,  0.3647,  0.3569,  0.3569],\n",
       "           ...,\n",
       "           [ 0.2471,  0.2392,  0.2314,  ...,  0.2706,  0.2863,  0.3098],\n",
       "           [ 0.2314,  0.2314,  0.2549,  ...,  0.2784,  0.2863,  0.3020],\n",
       "           [ 0.2157,  0.2314,  0.2627,  ...,  0.2863,  0.2941,  0.3020]],\n",
       "  \n",
       "          [[-0.0039,  0.0118,  0.0196,  ..., -0.0431, -0.0588, -0.0431],\n",
       "           [ 0.0118,  0.0196,  0.0196,  ..., -0.0118, -0.0353, -0.0275],\n",
       "           [ 0.0196,  0.0196,  0.0196,  ..., -0.0118, -0.0196, -0.0196],\n",
       "           ...,\n",
       "           [-0.0980, -0.1059, -0.1137,  ..., -0.0824, -0.0667, -0.0431],\n",
       "           [-0.1137, -0.1137, -0.0980,  ..., -0.0745, -0.0667, -0.0510],\n",
       "           [-0.1373, -0.1137, -0.0902,  ..., -0.0667, -0.0588, -0.0510]],\n",
       "  \n",
       "          [[-0.2941, -0.2784, -0.2706,  ..., -0.3490, -0.3569, -0.3569],\n",
       "           [-0.2784, -0.2784, -0.2706,  ..., -0.3333, -0.3490, -0.3412],\n",
       "           [-0.2863, -0.2784, -0.2627,  ..., -0.3333, -0.3333, -0.3412],\n",
       "           ...,\n",
       "           [-0.4039, -0.4118, -0.4196,  ..., -0.4039, -0.3804, -0.3647],\n",
       "           [-0.4196, -0.4196, -0.4039,  ..., -0.3961, -0.3804, -0.3725],\n",
       "           [-0.4431, -0.4196, -0.3961,  ..., -0.3804, -0.3804, -0.3725]]]),\n",
       "  tensor([[[ 0.1686,  0.1686,  0.1922,  ...,  0.6549,  0.6471,  0.6392],\n",
       "           [ 0.1843,  0.1922,  0.2000,  ...,  0.6706,  0.6706,  0.6549],\n",
       "           [ 0.1765,  0.1843,  0.1843,  ...,  0.6706,  0.6706,  0.6627],\n",
       "           ...,\n",
       "           [ 0.1529,  0.1608,  0.1686,  ...,  0.3882,  0.3961,  0.4039],\n",
       "           [ 0.1451,  0.1608,  0.1686,  ...,  0.4039,  0.3882,  0.3804],\n",
       "           [ 0.1294,  0.1451,  0.1608,  ...,  0.3725,  0.3725,  0.3804]],\n",
       "  \n",
       "          [[-0.2471, -0.2471, -0.2392,  ...,  0.2706,  0.2706,  0.2627],\n",
       "           [-0.2235, -0.2314, -0.2235,  ...,  0.2784,  0.2784,  0.2706],\n",
       "           [-0.2157, -0.2235, -0.2314,  ...,  0.2784,  0.2863,  0.2784],\n",
       "           ...,\n",
       "           [-0.1294, -0.1216, -0.1137,  ...,  0.1137,  0.1216,  0.1294],\n",
       "           [-0.1373, -0.1216, -0.1137,  ...,  0.1294,  0.1137,  0.1059],\n",
       "           [-0.1529, -0.1294, -0.1137,  ...,  0.0980,  0.0980,  0.1059]],\n",
       "  \n",
       "          [[-0.3412, -0.3255, -0.3098,  ..., -0.0118, -0.0275, -0.0431],\n",
       "           [-0.3255, -0.3255, -0.3098,  ..., -0.0118, -0.0196, -0.0353],\n",
       "           [-0.3490, -0.3412, -0.3333,  ..., -0.0118, -0.0275, -0.0353],\n",
       "           ...,\n",
       "           [-0.3333, -0.3255, -0.3176,  ..., -0.2000, -0.1843, -0.1843],\n",
       "           [-0.3412, -0.3255, -0.3176,  ..., -0.1843, -0.1922, -0.1922],\n",
       "           [-0.3569, -0.3412, -0.3176,  ..., -0.2000, -0.2000, -0.1922]]])]}"
      ]
     },
     "execution_count": 149,
     "metadata": {},
     "output_type": "execute_result"
    }
   ],
   "source": [
    "train_ds[:2]"
   ]
  },
  {
   "cell_type": "code",
   "execution_count": 150,
   "metadata": {},
   "outputs": [],
   "source": [
    "from torch.utils.data import DataLoader\n",
    "import torch\n",
    "\n",
    "def collate_fn(examples):\n",
    "    pixel_values = torch.stack([example[\"pixel_values\"] for example in examples])\n",
    "    labels = torch.tensor([example[\"label\"] for example in examples])\n",
    "    return {\"pixel_values\": pixel_values, \"labels\": labels}\n",
    "\n",
    "train_dataloader = DataLoader(train_ds, collate_fn=collate_fn, batch_size=4)"
   ]
  },
  {
   "cell_type": "code",
   "execution_count": 151,
   "metadata": {},
   "outputs": [],
   "source": [
    "val_dataloader = DataLoader(val_ds, collate_fn=collate_fn, batch_size=4)"
   ]
  },
  {
   "cell_type": "code",
   "execution_count": 163,
   "metadata": {},
   "outputs": [],
   "source": [
    "test_dataloader = DataLoader(test_ds, collate_fn=collate_fn, batch_size=4)"
   ]
  },
  {
   "cell_type": "code",
   "execution_count": 152,
   "metadata": {},
   "outputs": [
    {
     "name": "stdout",
     "output_type": "stream",
     "text": [
      "pixel_values torch.Size([4, 3, 224, 224])\n",
      "labels torch.Size([4])\n"
     ]
    }
   ],
   "source": [
    "batch = next(iter(train_dataloader))\n",
    "for k,v in batch.items():\n",
    "  if isinstance(v, torch.Tensor):\n",
    "    print(k, v.shape)"
   ]
  },
  {
   "cell_type": "code",
   "execution_count": 153,
   "metadata": {},
   "outputs": [
    {
     "data": {
      "text/plain": [
       "Dataset({\n",
       "    features: ['img', 'label'],\n",
       "    num_rows: 17848\n",
       "})"
      ]
     },
     "execution_count": 153,
     "metadata": {},
     "output_type": "execute_result"
    }
   ],
   "source": [
    "train_ds"
   ]
  },
  {
   "cell_type": "code",
   "execution_count": 154,
   "metadata": {},
   "outputs": [
    {
     "name": "stdout",
     "output_type": "stream",
     "text": [
      "CUDA is available. Working on GPU\n"
     ]
    }
   ],
   "source": [
    "if torch.cuda.is_available():\n",
    "    print('CUDA is available. Working on GPU')\n",
    "    DEVICE = torch.device('cuda')\n",
    "else:\n",
    "    print('CUDA is not available. Working on CPU')\n",
    "    DEVICE = torch.device('cpu')"
   ]
  },
  {
   "cell_type": "code",
   "execution_count": 155,
   "metadata": {},
   "outputs": [
    {
     "name": "stderr",
     "output_type": "stream",
     "text": [
      "Some weights of ViTForImageClassification were not initialized from the model checkpoint at google/vit-base-patch16-224-in21k and are newly initialized: ['classifier.bias', 'classifier.weight']\n",
      "You should probably TRAIN this model on a down-stream task to be able to use it for predictions and inference.\n"
     ]
    }
   ],
   "source": [
    "from transformers import ViTForImageClassification\n",
    "\n",
    "model = ViTForImageClassification.from_pretrained('google/vit-base-patch16-224-in21k',\n",
    "                                                  id2label=id2label,\n",
    "                                                  label2id=label2id)"
   ]
  },
  {
   "cell_type": "code",
   "execution_count": null,
   "metadata": {},
   "outputs": [],
   "source": []
  },
  {
   "cell_type": "code",
   "execution_count": 156,
   "metadata": {},
   "outputs": [],
   "source": [
    "import numpy as np\n",
    "# import matplotlib.pyplot as plt\n",
    "from sklearn.datasets import make_classification\n",
    "from sklearn.model_selection import train_test_split\n",
    "from sklearn.linear_model import LogisticRegression\n",
    "from sklearn.metrics import roc_curve, roc_auc_score, auc"
   ]
  },
  {
   "cell_type": "code",
   "execution_count": null,
   "metadata": {},
   "outputs": [],
   "source": []
  },
  {
   "cell_type": "code",
   "execution_count": 157,
   "metadata": {},
   "outputs": [],
   "source": [
    "from transformers import TrainingArguments, Trainer\n",
    "\n",
    "# metric_name = \"accuracy\"\n",
    "\n",
    "args = TrainingArguments(\n",
    "    f\"glaucoma\",\n",
    "    save_strategy=\"epoch\",\n",
    "    evaluation_strategy=\"epoch\",\n",
    "    learning_rate=2e-5,\n",
    "    per_device_train_batch_size=10,\n",
    "    per_device_eval_batch_size=4,\n",
    "    num_train_epochs=10,\n",
    "    weight_decay=0.01,\n",
    "    load_best_model_at_end=True,\n",
    "    # metric_for_best_model=metric_name,\n",
    "    logging_dir='logs',\n",
    "    remove_unused_columns=False,\n",
    ")"
   ]
  },
  {
   "cell_type": "code",
   "execution_count": 158,
   "metadata": {},
   "outputs": [],
   "source": [
    "from sklearn.metrics import accuracy_score\n",
    "import numpy as np\n",
    "\n",
    "def compute_metrics(eval_pred):\n",
    "    predictions, labels = eval_pred\n",
    "    predictions = np.argmax(predictions, axis=1)\n",
    "    return dict(accuracy=accuracy_score(predictions, labels))"
   ]
  },
  {
   "cell_type": "code",
   "execution_count": 159,
   "metadata": {},
   "outputs": [],
   "source": [
    "def softmax(logits):\n",
    "    exp_logits = np.exp(logits - np.max(logits, axis=-1, keepdims=True))\n",
    "    return exp_logits / np.sum(exp_logits, axis=-1, keepdims=True)"
   ]
  },
  {
   "cell_type": "code",
   "execution_count": 160,
   "metadata": {},
   "outputs": [],
   "source": [
    "from sklearn.metrics import accuracy_score, precision_score, recall_score, f1_score\n",
    "\n",
    "def compute_metrics(pred):\n",
    "    # labels = pred.label_ids\n",
    "    # preds = pred.predictions.argmax(-1)\n",
    "    predictions, labels = pred\n",
    "    # print(type(predictions))\n",
    "    for i in range(len(predictions)):\n",
    "      predictions[i] = softmax(predictions[i])\n",
    "    # print(predictions)\n",
    "    predictions2 = np.argmax(predictions, axis=1)\n",
    "    # print(predictions)\n",
    "    predictions = predictions[:,1]\n",
    "    # print(predictions)\n",
    "    \n",
    "    # Calculate accuracy\n",
    "    accuracy = accuracy_score(predictions2, labels)\n",
    "   # Calculate precision, recall, and F1-score\n",
    "    # precision = precision_score(predictions2, labels, average='weighted')\n",
    "    # recall = recall_score(predictions2, labels, average='weighted')\n",
    "    # f1 = f1_score(predictions2, labels, average='weighted')\n",
    "    fpr, tpr, thresholds = roc_curve(labels, predictions)\n",
    "    # print(predictions)\n",
    "    # roc_auc = auc(fpr, tpr)\n",
    "    desired_specificity = 0.95\n",
    "    idx = np.argmax(fpr >= (1 - desired_specificity))\n",
    "    # threshold_at_desired_specificity = thresholds[idx]\n",
    "    sensitivity_at_desired_specificity = tpr[idx]\n",
    "\n",
    "    # return dict(sensitivity_at_desired_specificity= tpr[idx])\n",
    "    return dict(\n",
    "        accuracy=accuracy,\n",
    "        # precision= precision,\n",
    "        # recall= recall,\n",
    "        # f1= f1,\n",
    "        sensitivity_at_desired_specificity= sensitivity_at_desired_specificity,\n",
    "    )\n"
   ]
  },
  {
   "cell_type": "code",
   "execution_count": 161,
   "metadata": {},
   "outputs": [],
   "source": [
    "import torch\n",
    "\n",
    "trainer = Trainer(\n",
    "    model,\n",
    "    args,\n",
    "    train_dataset=train_ds,\n",
    "    eval_dataset=val_ds,\n",
    "    data_collator=collate_fn,\n",
    "    compute_metrics=compute_metrics,\n",
    "    tokenizer=processor,\n",
    ")"
   ]
  },
  {
   "cell_type": "code",
   "execution_count": 225,
   "metadata": {},
   "outputs": [
    {
     "data": {
      "text/html": [
       "\n",
       "    <div>\n",
       "      \n",
       "      <progress value='2559' max='2559' style='width:300px; height:20px; vertical-align: middle;'></progress>\n",
       "      [2559/2559 42:44, Epoch 3/3]\n",
       "    </div>\n",
       "    <table border=\"1\" class=\"dataframe\">\n",
       "  <thead>\n",
       " <tr style=\"text-align: left;\">\n",
       "      <th>Epoch</th>\n",
       "      <th>Training Loss</th>\n",
       "      <th>Validation Loss</th>\n",
       "      <th>Accuracy</th>\n",
       "      <th>Sensitivity At Desired Specificity</th>\n",
       "    </tr>\n",
       "  </thead>\n",
       "  <tbody>\n",
       "    <tr>\n",
       "      <td>1</td>\n",
       "      <td>0.152400</td>\n",
       "      <td>0.116589</td>\n",
       "      <td>0.964159</td>\n",
       "      <td>0.518161</td>\n",
       "    </tr>\n",
       "    <tr>\n",
       "      <td>2</td>\n",
       "      <td>0.118200</td>\n",
       "      <td>0.101271</td>\n",
       "      <td>0.968536</td>\n",
       "      <td>0.635074</td>\n",
       "    </tr>\n",
       "    <tr>\n",
       "      <td>3</td>\n",
       "      <td>0.101900</td>\n",
       "      <td>0.102791</td>\n",
       "      <td>0.970725</td>\n",
       "      <td>0.567537</td>\n",
       "    </tr>\n",
       "  </tbody>\n",
       "</table><p>"
      ],
      "text/plain": [
       "<IPython.core.display.HTML object>"
      ]
     },
     "metadata": {},
     "output_type": "display_data"
    },
    {
     "data": {
      "text/plain": [
       "TrainOutput(global_step=2559, training_loss=0.11930562295500027, metrics={'train_runtime': 2566.1099, 'train_samples_per_second': 9.969, 'train_steps_per_second': 0.997, 'total_flos': 1.982322586330878e+18, 'train_loss': 0.11930562295500027, 'epoch': 3.0})"
      ]
     },
     "execution_count": 225,
     "metadata": {},
     "output_type": "execute_result"
    }
   ],
   "source": [
    "trainer.train()"
   ]
  },
  {
   "cell_type": "markdown",
   "metadata": {},
   "source": [
    "## ODR"
   ]
  },
  {
   "cell_type": "code",
   "execution_count": 34,
   "metadata": {},
   "outputs": [
    {
     "data": {
      "text/html": [
       "\n",
       "    <div>\n",
       "      \n",
       "      <progress value='2556' max='2556' style='width:300px; height:20px; vertical-align: middle;'></progress>\n",
       "      [2556/2556 06:17, Epoch 3/3]\n",
       "    </div>\n",
       "    <table border=\"1\" class=\"dataframe\">\n",
       "  <thead>\n",
       " <tr style=\"text-align: left;\">\n",
       "      <th>Epoch</th>\n",
       "      <th>Training Loss</th>\n",
       "      <th>Validation Loss</th>\n",
       "      <th>Accuracy</th>\n",
       "      <th>Sensitivity At Desired Specificity</th>\n",
       "    </tr>\n",
       "  </thead>\n",
       "  <tbody>\n",
       "    <tr>\n",
       "      <td>1</td>\n",
       "      <td>0.132600</td>\n",
       "      <td>0.086963</td>\n",
       "      <td>0.974232</td>\n",
       "      <td>0.760284</td>\n",
       "    </tr>\n",
       "    <tr>\n",
       "      <td>2</td>\n",
       "      <td>0.096500</td>\n",
       "      <td>0.070806</td>\n",
       "      <td>0.973958</td>\n",
       "      <td>0.867234</td>\n",
       "    </tr>\n",
       "    <tr>\n",
       "      <td>3</td>\n",
       "      <td>0.080300</td>\n",
       "      <td>0.075130</td>\n",
       "      <td>0.976700</td>\n",
       "      <td>0.805390</td>\n",
       "    </tr>\n",
       "  </tbody>\n",
       "</table><p>"
      ],
      "text/plain": [
       "<IPython.core.display.HTML object>"
      ]
     },
     "metadata": {},
     "output_type": "display_data"
    },
    {
     "data": {
      "text/plain": [
       "TrainOutput(global_step=2556, training_loss=0.10203577561744129, metrics={'train_runtime': 379.96, 'train_samples_per_second': 67.207, 'train_steps_per_second': 6.727, 'total_flos': 1.9788354467982213e+18, 'train_loss': 0.10203577561744129, 'epoch': 3.0})"
      ]
     },
     "execution_count": 34,
     "metadata": {},
     "output_type": "execute_result"
    }
   ],
   "source": [
    "trainer.train()"
   ]
  },
  {
   "cell_type": "code",
   "execution_count": 129,
   "metadata": {},
   "outputs": [
    {
     "data": {
      "text/html": [
       "\n",
       "    <div>\n",
       "      \n",
       "      <progress value='8925' max='8925' style='width:300px; height:20px; vertical-align: middle;'></progress>\n",
       "      [8925/8925 22:04, Epoch 5/5]\n",
       "    </div>\n",
       "    <table border=\"1\" class=\"dataframe\">\n",
       "  <thead>\n",
       " <tr style=\"text-align: left;\">\n",
       "      <th>Epoch</th>\n",
       "      <th>Training Loss</th>\n",
       "      <th>Validation Loss</th>\n",
       "      <th>Accuracy</th>\n",
       "      <th>Sensitivity At Desired Specificity</th>\n",
       "    </tr>\n",
       "  </thead>\n",
       "  <tbody>\n",
       "    <tr>\n",
       "      <td>1</td>\n",
       "      <td>0.097300</td>\n",
       "      <td>0.074508</td>\n",
       "      <td>0.974771</td>\n",
       "      <td>0.753985</td>\n",
       "    </tr>\n",
       "    <tr>\n",
       "      <td>2</td>\n",
       "      <td>0.094500</td>\n",
       "      <td>0.088195</td>\n",
       "      <td>0.973856</td>\n",
       "      <td>0.889354</td>\n",
       "    </tr>\n",
       "    <tr>\n",
       "      <td>3</td>\n",
       "      <td>0.078100</td>\n",
       "      <td>0.061982</td>\n",
       "      <td>0.978954</td>\n",
       "      <td>0.906917</td>\n",
       "    </tr>\n",
       "    <tr>\n",
       "      <td>4</td>\n",
       "      <td>0.059200</td>\n",
       "      <td>0.062032</td>\n",
       "      <td>0.980523</td>\n",
       "      <td>0.931910</td>\n",
       "    </tr>\n",
       "    <tr>\n",
       "      <td>5</td>\n",
       "      <td>0.065600</td>\n",
       "      <td>0.062113</td>\n",
       "      <td>0.981438</td>\n",
       "      <td>0.933667</td>\n",
       "    </tr>\n",
       "  </tbody>\n",
       "</table><p>"
      ],
      "text/plain": [
       "<IPython.core.display.HTML object>"
      ]
     },
     "metadata": {},
     "output_type": "display_data"
    },
    {
     "data": {
      "text/plain": [
       "TrainOutput(global_step=8925, training_loss=0.0841994036078787, metrics={'train_runtime': 1324.4092, 'train_samples_per_second': 67.381, 'train_steps_per_second': 6.739, 'total_flos': 6.91538515320619e+18, 'train_loss': 0.0841994036078787, 'epoch': 5.0})"
      ]
     },
     "execution_count": 129,
     "metadata": {},
     "output_type": "execute_result"
    }
   ],
   "source": [
    "trainer.train()"
   ]
  },
  {
   "cell_type": "code",
   "execution_count": 162,
   "metadata": {},
   "outputs": [
    {
     "data": {
      "text/html": [
       "\n",
       "    <div>\n",
       "      \n",
       "      <progress value='17850' max='17850' style='width:300px; height:20px; vertical-align: middle;'></progress>\n",
       "      [17850/17850 1:04:13, Epoch 10/10]\n",
       "    </div>\n",
       "    <table border=\"1\" class=\"dataframe\">\n",
       "  <thead>\n",
       " <tr style=\"text-align: left;\">\n",
       "      <th>Epoch</th>\n",
       "      <th>Training Loss</th>\n",
       "      <th>Validation Loss</th>\n",
       "      <th>Accuracy</th>\n",
       "      <th>Sensitivity At Desired Specificity</th>\n",
       "    </tr>\n",
       "  </thead>\n",
       "  <tbody>\n",
       "    <tr>\n",
       "      <td>1</td>\n",
       "      <td>0.100000</td>\n",
       "      <td>0.073994</td>\n",
       "      <td>0.976209</td>\n",
       "      <td>0.788300</td>\n",
       "    </tr>\n",
       "    <tr>\n",
       "      <td>2</td>\n",
       "      <td>0.095700</td>\n",
       "      <td>0.086038</td>\n",
       "      <td>0.973856</td>\n",
       "      <td>0.836396</td>\n",
       "    </tr>\n",
       "    <tr>\n",
       "      <td>3</td>\n",
       "      <td>0.078300</td>\n",
       "      <td>0.061115</td>\n",
       "      <td>0.979477</td>\n",
       "      <td>0.906917</td>\n",
       "    </tr>\n",
       "    <tr>\n",
       "      <td>4</td>\n",
       "      <td>0.062100</td>\n",
       "      <td>0.076999</td>\n",
       "      <td>0.972941</td>\n",
       "      <td>0.915293</td>\n",
       "    </tr>\n",
       "    <tr>\n",
       "      <td>5</td>\n",
       "      <td>0.073200</td>\n",
       "      <td>0.060713</td>\n",
       "      <td>0.980392</td>\n",
       "      <td>0.891516</td>\n",
       "    </tr>\n",
       "    <tr>\n",
       "      <td>6</td>\n",
       "      <td>0.063500</td>\n",
       "      <td>0.066631</td>\n",
       "      <td>0.980261</td>\n",
       "      <td>0.895974</td>\n",
       "    </tr>\n",
       "    <tr>\n",
       "      <td>7</td>\n",
       "      <td>0.054900</td>\n",
       "      <td>0.084305</td>\n",
       "      <td>0.980261</td>\n",
       "      <td>0.915293</td>\n",
       "    </tr>\n",
       "    <tr>\n",
       "      <td>8</td>\n",
       "      <td>0.047100</td>\n",
       "      <td>0.076780</td>\n",
       "      <td>0.981569</td>\n",
       "      <td>0.926236</td>\n",
       "    </tr>\n",
       "    <tr>\n",
       "      <td>9</td>\n",
       "      <td>0.057900</td>\n",
       "      <td>0.077262</td>\n",
       "      <td>0.981830</td>\n",
       "      <td>0.917725</td>\n",
       "    </tr>\n",
       "    <tr>\n",
       "      <td>10</td>\n",
       "      <td>0.038700</td>\n",
       "      <td>0.080668</td>\n",
       "      <td>0.982092</td>\n",
       "      <td>0.921778</td>\n",
       "    </tr>\n",
       "  </tbody>\n",
       "</table><p>"
      ],
      "text/plain": [
       "<IPython.core.display.HTML object>"
      ]
     },
     "metadata": {},
     "output_type": "display_data"
    },
    {
     "name": "stderr",
     "output_type": "stream",
     "text": [
      "Checkpoint destination directory glaucoma/checkpoint-1785 already exists and is non-empty. Saving will proceed but saved results may be invalid.\n",
      "Checkpoint destination directory glaucoma/checkpoint-3570 already exists and is non-empty. Saving will proceed but saved results may be invalid.\n",
      "Checkpoint destination directory glaucoma/checkpoint-5355 already exists and is non-empty. Saving will proceed but saved results may be invalid.\n",
      "Checkpoint destination directory glaucoma/checkpoint-7140 already exists and is non-empty. Saving will proceed but saved results may be invalid.\n",
      "Checkpoint destination directory glaucoma/checkpoint-8925 already exists and is non-empty. Saving will proceed but saved results may be invalid.\n"
     ]
    },
    {
     "data": {
      "text/plain": [
       "TrainOutput(global_step=17850, training_loss=0.06960792488076774, metrics={'train_runtime': 3853.6395, 'train_samples_per_second': 46.315, 'train_steps_per_second': 4.632, 'total_flos': 1.383077030641238e+19, 'train_loss': 0.06960792488076774, 'epoch': 10.0})"
      ]
     },
     "execution_count": 162,
     "metadata": {},
     "output_type": "execute_result"
    }
   ],
   "source": [
    "trainer.train()"
   ]
  },
  {
   "cell_type": "code",
   "execution_count": 164,
   "metadata": {},
   "outputs": [
    {
     "data": {
      "text/html": [
       "\n",
       "    <div>\n",
       "      \n",
       "      <progress value='2732' max='2732' style='width:300px; height:20px; vertical-align: middle;'></progress>\n",
       "      [2732/2732 01:00]\n",
       "    </div>\n",
       "    "
      ],
      "text/plain": [
       "<IPython.core.display.HTML object>"
      ]
     },
     "metadata": {},
     "output_type": "display_data"
    },
    {
     "name": "stdout",
     "output_type": "stream",
     "text": [
      "{'eval_loss': 0.06492035835981369, 'eval_accuracy': 0.9798682284040996, 'eval_sensitivity_at_desired_specificity': 0.8391674550614948, 'eval_runtime': 60.2957, 'eval_samples_per_second': 181.24, 'eval_steps_per_second': 45.31, 'epoch': 10.0}\n"
     ]
    }
   ],
   "source": [
    "eval_result = trainer.evaluate(test_ds)\n",
    "print(eval_result)"
   ]
  },
  {
   "cell_type": "code",
   "execution_count": 172,
   "metadata": {},
   "outputs": [],
   "source": [
    "model.eval()\n",
    "\n",
    "all_predictions = []\n",
    "all_labels = []\n",
    "\n",
    "for batch_idx, batch_data in enumerate(test_dataloader):\n",
    "    # Extract inputs from the batch_data\n",
    "    inputs = batch_data[\"pixel_values\"]\n",
    "    labels = batch_data[\"labels\"]\n",
    "    inputs = inputs.to(DEVICE)\n",
    "    labels = labels.to(DEVICE)\n",
    "    with torch.no_grad():  # Disable gradient tracking\n",
    "        outputs = model(inputs)\n",
    "    all_predictions.append(outputs)\n",
    "    all_labels.append(labels)\n",
    "\n"
   ]
  },
  {
   "cell_type": "code",
   "execution_count": 175,
   "metadata": {},
   "outputs": [],
   "source": [
    "all_labels2 = torch.cat(all_labels, dim=0)"
   ]
  },
  {
   "cell_type": "code",
   "execution_count": 187,
   "metadata": {},
   "outputs": [
    {
     "ename": "TypeError",
     "evalue": "max() received an invalid combination of arguments - got (keepdims=bool, out=NoneType, axis=int, ), but expected one of:\n * ()\n * (Tensor other)\n * (int dim, bool keepdim)\n * (name dim, bool keepdim)\n",
     "output_type": "error",
     "traceback": [
      "\u001b[0;31m---------------------------------------------------------------------------\u001b[0m",
      "\u001b[0;31mTypeError\u001b[0m                                 Traceback (most recent call last)",
      "Cell \u001b[0;32mIn[187], line 4\u001b[0m\n\u001b[1;32m      2\u001b[0m \u001b[38;5;28;01mfor\u001b[39;00m p \u001b[38;5;129;01min\u001b[39;00m all_predictions2:\n\u001b[1;32m      3\u001b[0m     \u001b[38;5;28;01mfor\u001b[39;00m row \u001b[38;5;129;01min\u001b[39;00m p\u001b[38;5;241m.\u001b[39mlogits:\n\u001b[0;32m----> 4\u001b[0m         \u001b[38;5;28mprint\u001b[39m(\u001b[43msoftmax\u001b[49m\u001b[43m(\u001b[49m\u001b[43mrow\u001b[49m\u001b[43m)\u001b[49m)\n\u001b[1;32m      5\u001b[0m     \u001b[38;5;66;03m# print(p.logits)\u001b[39;00m\n\u001b[1;32m      6\u001b[0m     \u001b[38;5;28;01mbreak\u001b[39;00m\n",
      "Cell \u001b[0;32mIn[159], line 2\u001b[0m, in \u001b[0;36msoftmax\u001b[0;34m(logits)\u001b[0m\n\u001b[1;32m      1\u001b[0m \u001b[38;5;28;01mdef\u001b[39;00m \u001b[38;5;21msoftmax\u001b[39m(logits):\n\u001b[0;32m----> 2\u001b[0m     exp_logits \u001b[38;5;241m=\u001b[39m np\u001b[38;5;241m.\u001b[39mexp(logits \u001b[38;5;241m-\u001b[39m \u001b[43mnp\u001b[49m\u001b[38;5;241;43m.\u001b[39;49m\u001b[43mmax\u001b[49m\u001b[43m(\u001b[49m\u001b[43mlogits\u001b[49m\u001b[43m,\u001b[49m\u001b[43m \u001b[49m\u001b[43maxis\u001b[49m\u001b[38;5;241;43m=\u001b[39;49m\u001b[38;5;241;43m-\u001b[39;49m\u001b[38;5;241;43m1\u001b[39;49m\u001b[43m,\u001b[49m\u001b[43m \u001b[49m\u001b[43mkeepdims\u001b[49m\u001b[38;5;241;43m=\u001b[39;49m\u001b[38;5;28;43;01mTrue\u001b[39;49;00m\u001b[43m)\u001b[49m)\n\u001b[1;32m      3\u001b[0m     \u001b[38;5;28;01mreturn\u001b[39;00m exp_logits \u001b[38;5;241m/\u001b[39m np\u001b[38;5;241m.\u001b[39msum(exp_logits, axis\u001b[38;5;241m=\u001b[39m\u001b[38;5;241m-\u001b[39m\u001b[38;5;241m1\u001b[39m, keepdims\u001b[38;5;241m=\u001b[39m\u001b[38;5;28;01mTrue\u001b[39;00m)\n",
      "File \u001b[0;32m~/.local/lib/python3.10/site-packages/numpy/core/fromnumeric.py:2810\u001b[0m, in \u001b[0;36mmax\u001b[0;34m(a, axis, out, keepdims, initial, where)\u001b[0m\n\u001b[1;32m   2692\u001b[0m \u001b[38;5;129m@array_function_dispatch\u001b[39m(_max_dispatcher)\n\u001b[1;32m   2693\u001b[0m \u001b[38;5;129m@set_module\u001b[39m(\u001b[38;5;124m'\u001b[39m\u001b[38;5;124mnumpy\u001b[39m\u001b[38;5;124m'\u001b[39m)\n\u001b[1;32m   2694\u001b[0m \u001b[38;5;28;01mdef\u001b[39;00m \u001b[38;5;21mmax\u001b[39m(a, axis\u001b[38;5;241m=\u001b[39m\u001b[38;5;28;01mNone\u001b[39;00m, out\u001b[38;5;241m=\u001b[39m\u001b[38;5;28;01mNone\u001b[39;00m, keepdims\u001b[38;5;241m=\u001b[39mnp\u001b[38;5;241m.\u001b[39m_NoValue, initial\u001b[38;5;241m=\u001b[39mnp\u001b[38;5;241m.\u001b[39m_NoValue,\n\u001b[1;32m   2695\u001b[0m          where\u001b[38;5;241m=\u001b[39mnp\u001b[38;5;241m.\u001b[39m_NoValue):\n\u001b[1;32m   2696\u001b[0m \u001b[38;5;250m    \u001b[39m\u001b[38;5;124;03m\"\"\"\u001b[39;00m\n\u001b[1;32m   2697\u001b[0m \u001b[38;5;124;03m    Return the maximum of an array or maximum along an axis.\u001b[39;00m\n\u001b[1;32m   2698\u001b[0m \n\u001b[0;32m   (...)\u001b[0m\n\u001b[1;32m   2808\u001b[0m \u001b[38;5;124;03m    5\u001b[39;00m\n\u001b[1;32m   2809\u001b[0m \u001b[38;5;124;03m    \"\"\"\u001b[39;00m\n\u001b[0;32m-> 2810\u001b[0m     \u001b[38;5;28;01mreturn\u001b[39;00m \u001b[43m_wrapreduction\u001b[49m\u001b[43m(\u001b[49m\u001b[43ma\u001b[49m\u001b[43m,\u001b[49m\u001b[43m \u001b[49m\u001b[43mnp\u001b[49m\u001b[38;5;241;43m.\u001b[39;49m\u001b[43mmaximum\u001b[49m\u001b[43m,\u001b[49m\u001b[43m \u001b[49m\u001b[38;5;124;43m'\u001b[39;49m\u001b[38;5;124;43mmax\u001b[39;49m\u001b[38;5;124;43m'\u001b[39;49m\u001b[43m,\u001b[49m\u001b[43m \u001b[49m\u001b[43maxis\u001b[49m\u001b[43m,\u001b[49m\u001b[43m \u001b[49m\u001b[38;5;28;43;01mNone\u001b[39;49;00m\u001b[43m,\u001b[49m\u001b[43m \u001b[49m\u001b[43mout\u001b[49m\u001b[43m,\u001b[49m\n\u001b[1;32m   2811\u001b[0m \u001b[43m                          \u001b[49m\u001b[43mkeepdims\u001b[49m\u001b[38;5;241;43m=\u001b[39;49m\u001b[43mkeepdims\u001b[49m\u001b[43m,\u001b[49m\u001b[43m \u001b[49m\u001b[43minitial\u001b[49m\u001b[38;5;241;43m=\u001b[39;49m\u001b[43minitial\u001b[49m\u001b[43m,\u001b[49m\u001b[43m \u001b[49m\u001b[43mwhere\u001b[49m\u001b[38;5;241;43m=\u001b[39;49m\u001b[43mwhere\u001b[49m\u001b[43m)\u001b[49m\n",
      "File \u001b[0;32m~/.local/lib/python3.10/site-packages/numpy/core/fromnumeric.py:86\u001b[0m, in \u001b[0;36m_wrapreduction\u001b[0;34m(obj, ufunc, method, axis, dtype, out, **kwargs)\u001b[0m\n\u001b[1;32m     84\u001b[0m             \u001b[38;5;28;01mreturn\u001b[39;00m reduction(axis\u001b[38;5;241m=\u001b[39maxis, dtype\u001b[38;5;241m=\u001b[39mdtype, out\u001b[38;5;241m=\u001b[39mout, \u001b[38;5;241m*\u001b[39m\u001b[38;5;241m*\u001b[39mpasskwargs)\n\u001b[1;32m     85\u001b[0m         \u001b[38;5;28;01melse\u001b[39;00m:\n\u001b[0;32m---> 86\u001b[0m             \u001b[38;5;28;01mreturn\u001b[39;00m \u001b[43mreduction\u001b[49m\u001b[43m(\u001b[49m\u001b[43maxis\u001b[49m\u001b[38;5;241;43m=\u001b[39;49m\u001b[43maxis\u001b[49m\u001b[43m,\u001b[49m\u001b[43m \u001b[49m\u001b[43mout\u001b[49m\u001b[38;5;241;43m=\u001b[39;49m\u001b[43mout\u001b[49m\u001b[43m,\u001b[49m\u001b[43m \u001b[49m\u001b[38;5;241;43m*\u001b[39;49m\u001b[38;5;241;43m*\u001b[39;49m\u001b[43mpasskwargs\u001b[49m\u001b[43m)\u001b[49m\n\u001b[1;32m     88\u001b[0m \u001b[38;5;28;01mreturn\u001b[39;00m ufunc\u001b[38;5;241m.\u001b[39mreduce(obj, axis, dtype, out, \u001b[38;5;241m*\u001b[39m\u001b[38;5;241m*\u001b[39mpasskwargs)\n",
      "\u001b[0;31mTypeError\u001b[0m: max() received an invalid combination of arguments - got (keepdims=bool, out=NoneType, axis=int, ), but expected one of:\n * ()\n * (Tensor other)\n * (int dim, bool keepdim)\n * (name dim, bool keepdim)\n"
     ]
    }
   ],
   "source": [
    "all_predictions2 = all_predictions\n",
    "for p in all_predictions2:\n",
    "    for row in p.logits:\n",
    "        print(row)\n",
    "    # print(p.logits)\n",
    "    break\n",
    "    # print(p.predicted_labels)"
   ]
  },
  {
   "cell_type": "code",
   "execution_count": 176,
   "metadata": {},
   "outputs": [
    {
     "name": "stdout",
     "output_type": "stream",
     "text": [
      "tensor([1, 1, 1,  ..., 1, 1, 1], device='cuda:0')\n"
     ]
    }
   ],
   "source": [
    "# print(all_predictions)\n",
    "print(all_labels2)"
   ]
  },
  {
   "cell_type": "code",
   "execution_count": 166,
   "metadata": {},
   "outputs": [
    {
     "ename": "TypeError",
     "evalue": "cannot unpack non-iterable ViTForImageClassification object",
     "output_type": "error",
     "traceback": [
      "\u001b[0;31m---------------------------------------------------------------------------\u001b[0m",
      "\u001b[0;31mTypeError\u001b[0m                                 Traceback (most recent call last)",
      "Cell \u001b[0;32mIn[166], line 7\u001b[0m\n\u001b[1;32m      5\u001b[0m models \u001b[38;5;241m=\u001b[39m [model, model]\n\u001b[1;32m      6\u001b[0m individual_results \u001b[38;5;241m=\u001b[39m []\n\u001b[0;32m----> 7\u001b[0m \u001b[38;5;28;01mfor\u001b[39;00m model, tokenizer \u001b[38;5;129;01min\u001b[39;00m models:\n\u001b[1;32m      8\u001b[0m     result \u001b[38;5;241m=\u001b[39m trainer\u001b[38;5;241m.\u001b[39mevaluate(test_ds)\n\u001b[1;32m      9\u001b[0m     individual_results\u001b[38;5;241m.\u001b[39mappend(result)\n",
      "\u001b[0;31mTypeError\u001b[0m: cannot unpack non-iterable ViTForImageClassification object"
     ]
    }
   ],
   "source": [
    "def ensemble_predictions(predictions):\n",
    "    # Perform ensembling here, for example, you can average the predictions\n",
    "    return torch.stack(predictions).mean(dim=0)\n",
    "\n",
    "models = [model, model]\n",
    "individual_results = []\n",
    "for model, tokenizer in models:\n",
    "    result = trainer.evaluate(test_ds)\n",
    "    individual_results.append(result)\n",
    "\n",
    "# Ensemble predictions\n",
    "ensemble_preds = []\n",
    "for model in models:\n",
    "    # Generate predictions for each model\n",
    "    model.eval()\n",
    "    with torch.no_grad():\n",
    "        outputs = model(**batch)  # Assuming 'batch' contains your evaluation data\n",
    "        logits = outputs.logits\n",
    "        predictions = torch.softmax(logits, dim=-1)\n",
    "    ensemble_preds.append(predictions)\n",
    "\n",
    "# Perform ensembling\n",
    "final_predictions = ensemble_predictions(ensemble_preds)\n",
    "print(final_predictions)"
   ]
  },
  {
   "cell_type": "markdown",
   "metadata": {},
   "source": [
    "TRy"
   ]
  },
  {
   "cell_type": "code",
   "execution_count": 118,
   "metadata": {},
   "outputs": [
    {
     "name": "stdout",
     "output_type": "stream",
     "text": [
      "[[0.35111201 0.64888799]\n",
      " [0.13209533 0.86790467]\n",
      " [0.52459325 0.47540675]\n",
      " [0.14736477 0.85263523]\n",
      " [0.04450024 0.95549976]\n",
      " [0.94572445 0.05427555]\n",
      " [0.78223416 0.21776584]\n",
      " [0.17814768 0.82185232]\n",
      " [0.25457359 0.74542641]\n",
      " [0.61042334 0.38957666]]\n",
      "[0.64888799 0.86790467 0.47540675 0.85263523 0.95549976 0.05427555\n",
      " 0.21776584 0.82185232 0.74542641 0.38957666]\n",
      "[1 1 1 1 1 0 0 1 0 0]\n"
     ]
    }
   ],
   "source": [
    "import numpy as np\n",
    "# import matplotlib.pyplot as plt\n",
    "from sklearn.datasets import make_classification\n",
    "from sklearn.model_selection import train_test_split\n",
    "from sklearn.linear_model import LogisticRegression\n",
    "from sklearn.metrics import roc_curve, roc_auc_score, auc\n",
    "\n",
    "X, y = make_classification(n_samples=1000, n_features=20, random_state=42)\n",
    "\n",
    "# Split the dataset into training and testing sets\n",
    "X_train, X_test, y_train, y_test = train_test_split(X, y, test_size=0.2, random_state=42)\n",
    "\n",
    "# Train a logistic regression model\n",
    "model = LogisticRegression()\n",
    "model.fit(X_train, y_train)\n",
    "\n",
    "# Get predicted probabilities \n",
    "y_pred_prob = model.predict_proba(X_test)\n",
    "print(y_pred_prob[0:10])\n",
    "y_pred_prob = model.predict_proba(X_test)[:,1]\n",
    "print(y_pred_prob[0:10])\n",
    "print(y_test[0:10])\n",
    "# Compute the ROC curve\n",
    "# fpr, tpr, thresholds = roc_curve(y_test, y_pred_prob)\n",
    "\n",
    "# # Calculate the AUC (Area Under the Curve)\n",
    "# roc_auc = auc(fpr, tpr)\n"
   ]
  },
  {
   "cell_type": "markdown",
   "metadata": {},
   "source": [
    "## Ensemble myself"
   ]
  },
  {
   "cell_type": "code",
   "execution_count": 89,
   "metadata": {},
   "outputs": [
    {
     "data": {
      "text/html": [
       "\n",
       "    <div>\n",
       "      \n",
       "      <progress value='25' max='25' style='width:300px; height:20px; vertical-align: middle;'></progress>\n",
       "      [25/25 00:15, Epoch 5/5]\n",
       "    </div>\n",
       "    <table border=\"1\" class=\"dataframe\">\n",
       "  <thead>\n",
       " <tr style=\"text-align: left;\">\n",
       "      <th>Epoch</th>\n",
       "      <th>Training Loss</th>\n",
       "      <th>Validation Loss</th>\n",
       "      <th>Accuracy</th>\n",
       "      <th>Sensitivity At Desired Specificity</th>\n",
       "    </tr>\n",
       "  </thead>\n",
       "  <tbody>\n",
       "    <tr>\n",
       "      <td>1</td>\n",
       "      <td>No log</td>\n",
       "      <td>0.457317</td>\n",
       "      <td>0.952381</td>\n",
       "      <td>0.750000</td>\n",
       "    </tr>\n",
       "    <tr>\n",
       "      <td>2</td>\n",
       "      <td>No log</td>\n",
       "      <td>0.362189</td>\n",
       "      <td>0.952381</td>\n",
       "      <td>0.800000</td>\n",
       "    </tr>\n",
       "    <tr>\n",
       "      <td>3</td>\n",
       "      <td>No log</td>\n",
       "      <td>0.304111</td>\n",
       "      <td>0.952381</td>\n",
       "      <td>0.500000</td>\n",
       "    </tr>\n",
       "    <tr>\n",
       "      <td>4</td>\n",
       "      <td>No log</td>\n",
       "      <td>0.279084</td>\n",
       "      <td>0.952381</td>\n",
       "      <td>0.450000</td>\n",
       "    </tr>\n",
       "    <tr>\n",
       "      <td>5</td>\n",
       "      <td>No log</td>\n",
       "      <td>0.272814</td>\n",
       "      <td>0.952381</td>\n",
       "      <td>0.450000</td>\n",
       "    </tr>\n",
       "  </tbody>\n",
       "</table><p>"
      ],
      "text/plain": [
       "<IPython.core.display.HTML object>"
      ]
     },
     "metadata": {},
     "output_type": "display_data"
    },
    {
     "name": "stderr",
     "output_type": "stream",
     "text": [
      "Checkpoint destination directory glaucoma/checkpoint-5 already exists and is non-empty. Saving will proceed but saved results may be invalid.\n",
      "Checkpoint destination directory glaucoma/checkpoint-10 already exists and is non-empty. Saving will proceed but saved results may be invalid.\n",
      "Checkpoint destination directory glaucoma/checkpoint-15 already exists and is non-empty. Saving will proceed but saved results may be invalid.\n"
     ]
    },
    {
     "data": {
      "text/plain": [
       "TrainOutput(global_step=25, training_loss=0.4083771896362305, metrics={'train_runtime': 16.4839, 'train_samples_per_second': 14.863, 'train_steps_per_second': 1.517, 'total_flos': 1.898553745557504e+16, 'train_loss': 0.4083771896362305, 'epoch': 5.0})"
      ]
     },
     "execution_count": 89,
     "metadata": {},
     "output_type": "execute_result"
    }
   ],
   "source": [
    "trainer.train()"
   ]
  },
  {
   "cell_type": "code",
   "execution_count": 95,
   "metadata": {},
   "outputs": [],
   "source": [
    "test_data_loader = DataLoader(test_ds, collate_fn=collate_fn, batch_size=4)\n",
    "\n",
    "# Set model to evaluation mode\n",
    "model.eval()\n",
    "\n",
    "# Placeholder for predictions and ground truth labels\n",
    "all_predictions = []\n",
    "all_labels = []\n",
    "\n",
    "# Iterate over test data\n",
    "for batch_idx, batch_data in enumerate(test_data_loader):\n",
    "    # Extract inputs from the batch_data\n",
    "    inputs = batch_data[\"pixel_values\"]\n",
    "    labels = batch_data[\"labels\"]\n",
    "    inputs = inputs.to(DEVICE)\n",
    "    labels = labels.to(DEVICE)\n",
    "\n",
    "    # Forward pass to get predictions\n",
    "    with torch.no_grad():  # Disable gradient tracking\n",
    "        outputs = model(inputs)\n",
    "\n",
    "    # Optionally, you may want to apply softmax or other post-processing to your outputs here\n",
    "    # For example, if you have a softmax layer in your model:\n",
    "    # predictions = torch.softmax(outputs, dim=1)\n",
    "\n",
    "    # Append predictions and labels to lists\n",
    "    all_predictions.append(outputs)\n",
    "    all_labels.append(labels)\n",
    "\n",
    "# Convert lists to tensors\n",
    "# all_predictions = torch.cat(all_predictions, dim=0)\n",
    "# all_labels = torch.cat(all_labels, dim=0)\n"
   ]
  },
  {
   "cell_type": "code",
   "execution_count": 96,
   "metadata": {},
   "outputs": [
    {
     "name": "stdout",
     "output_type": "stream",
     "text": [
      "[ImageClassifierOutput(loss=None, logits=tensor([[-0.7095,  0.9126],\n",
      "        [-0.6575,  0.8171],\n",
      "        [-0.3495,  0.6312],\n",
      "        [-0.6224,  0.8599]], device='cuda:0'), hidden_states=None, attentions=None), ImageClassifierOutput(loss=None, logits=tensor([[-0.6235,  0.7813],\n",
      "        [-0.6291,  0.8997],\n",
      "        [-0.6420,  0.8663],\n",
      "        [-0.5491,  0.6933]], device='cuda:0'), hidden_states=None, attentions=None), ImageClassifierOutput(loss=None, logits=tensor([[-0.5682,  0.9181],\n",
      "        [-0.5207,  0.9188],\n",
      "        [-0.6010,  0.7570],\n",
      "        [-0.5932,  0.9395]], device='cuda:0'), hidden_states=None, attentions=None), ImageClassifierOutput(loss=None, logits=tensor([[-0.6064,  0.8897],\n",
      "        [-0.6842,  0.9147],\n",
      "        [-0.5891,  0.8733],\n",
      "        [-0.5530,  0.9925]], device='cuda:0'), hidden_states=None, attentions=None), ImageClassifierOutput(loss=None, logits=tensor([[-0.5830,  0.8737],\n",
      "        [-0.6869,  0.7983],\n",
      "        [-0.6691,  0.8213],\n",
      "        [-0.6223,  0.8337]], device='cuda:0'), hidden_states=None, attentions=None), ImageClassifierOutput(loss=None, logits=tensor([[-0.6087,  0.8317],\n",
      "        [-0.6387,  0.7043],\n",
      "        [-0.6823,  0.9079],\n",
      "        [-0.5748,  0.8951]], device='cuda:0'), hidden_states=None, attentions=None), ImageClassifierOutput(loss=None, logits=tensor([[-0.6174,  0.6906],\n",
      "        [-0.5593,  1.0168],\n",
      "        [-0.7162,  0.8372],\n",
      "        [-0.6373,  0.9095]], device='cuda:0'), hidden_states=None, attentions=None), ImageClassifierOutput(loss=None, logits=tensor([[-0.5685,  0.9407],\n",
      "        [-0.6088,  0.7074]], device='cuda:0'), hidden_states=None, attentions=None)]\n",
      "[tensor([1, 1, 1, 1], device='cuda:0'), tensor([1, 0, 1, 1], device='cuda:0'), tensor([1, 1, 1, 1], device='cuda:0'), tensor([0, 1, 1, 1], device='cuda:0'), tensor([1, 1, 1, 1], device='cuda:0'), tensor([1, 1, 1, 1], device='cuda:0'), tensor([1, 1, 1, 1], device='cuda:0'), tensor([1, 1], device='cuda:0')]\n"
     ]
    }
   ],
   "source": [
    "print(all_predictions)\n",
    "print(all_labels)"
   ]
  },
  {
   "cell_type": "markdown",
   "metadata": {},
   "source": [
    "## Ensemble"
   ]
  },
  {
   "cell_type": "code",
   "execution_count": 1,
   "metadata": {},
   "outputs": [],
   "source": [
    "import torch\n",
    "import torch.nn as nn\n",
    "import torch.optim as optim\n",
    "from torchvision.models import densenet121\n",
    "from efficientnet_pytorch import EfficientNet\n",
    "from torch.utils.data import DataLoader, Dataset\n",
    "\n"
   ]
  },
  {
   "cell_type": "code",
   "execution_count": null,
   "metadata": {},
   "outputs": [],
   "source": []
  },
  {
   "cell_type": "markdown",
   "metadata": {},
   "source": [
    "## Cuda"
   ]
  },
  {
   "cell_type": "code",
   "execution_count": 76,
   "metadata": {},
   "outputs": [],
   "source": [
    "def training(model, model_name, num_epochs, train_dataloader, val_dataloader):\n",
    "\n",
    "    loss_function = torch.nn.CrossEntropyLoss()\n",
    "    optimizer = torch.optim.Adam(model.parameters(), lr=0.0003)\n",
    "    scheduler = torch.optim.lr_scheduler.StepLR(optimizer, step_size=3, gamma=0.33)\n",
    "\n",
    "    train_loss_array = []\n",
    "    train_acc_array = []\n",
    "    val_loss_array = []\n",
    "    val_acc_array = []\n",
    "    lowest_val_loss = np.inf\n",
    "    best_model = None\n",
    "\n",
    "    for epoch in tqdm(range(num_epochs)):\n",
    "\n",
    "        print('Epoch: {} | Learning rate: {}'.format(epoch + 1, scheduler.get_lr()))\n",
    "\n",
    "        for phase in ['train', 'val']:\n",
    "\n",
    "            epoch_loss = 0\n",
    "            epoch_correct_items = 0\n",
    "            epoch_items = 0\n",
    "\n",
    "            if phase == 'train':\n",
    "                model.train()\n",
    "                with torch.enable_grad():\n",
    "                    for batch_idx, batch_data in enumerate(train_dataloader):\n",
    "                        samples = batch_data[\"pixel_values\"]\n",
    "                        targets = batch_data[\"labels\"]\n",
    "                        samples = samples.to(DEVICE)\n",
    "                        targets = targets.to(DEVICE)\n",
    "\n",
    "                        optimizer.zero_grad()\n",
    "                        outputs = model(samples)\n",
    "                        loss = loss_function(outputs, targets)\n",
    "                        preds = outputs.argmax(dim=1)\n",
    "                        correct_items = (preds == targets).float().sum()\n",
    "                        \n",
    "                        loss.backward()\n",
    "                        optimizer.step()\n",
    "\n",
    "                        epoch_loss += loss.item()\n",
    "                        epoch_correct_items += correct_items.item()\n",
    "                        epoch_items += len(targets)\n",
    "                print(epoch_items)\n",
    "\n",
    "                train_loss_array.append(epoch_loss / epoch_items)\n",
    "                train_acc_array.append(epoch_correct_items / epoch_items)\n",
    "\n",
    "                scheduler.step()\n",
    "\n",
    "            elif phase == 'val':\n",
    "                model.eval()\n",
    "                with torch.no_grad():\n",
    "                    for batch_idx, batch_data in enumerate(val_dataloader):\n",
    "                        samples = batch_data[\"pixel_values\"]\n",
    "                        targets = batch_data[\"labels\"]\n",
    "                        samples = samples.to(DEVICE)\n",
    "                        targets = targets.to(DEVICE)\n",
    "\n",
    "                        outputs = model(samples)\n",
    "                        loss = loss_function(outputs, targets)\n",
    "                        preds = outputs.argmax(dim=1)\n",
    "                        correct_items = (preds == targets).float().sum()\n",
    "\n",
    "                        epoch_loss += loss.item()\n",
    "                        epoch_correct_items += correct_items.item()\n",
    "                        epoch_items += len(targets)\n",
    "                print(epoch_items)\n",
    "\n",
    "                val_loss_array.append(epoch_loss / epoch_items)\n",
    "                val_acc_array.append(epoch_correct_items / epoch_items)\n",
    "\n",
    "                if epoch_loss / epoch_items < lowest_val_loss:\n",
    "                    lowest_val_loss = epoch_loss / epoch_items\n",
    "                    torch.save(model.state_dict(), '{}_weights.pth'.format(model_name))\n",
    "                    best_model = copy.deepcopy(model)\n",
    "                    print(\"\\t| New lowest val loss for {}: {}\".format(model_name, lowest_val_loss))\n",
    "\n",
    "    return best_model, train_loss_array, train_acc_array, val_loss_array, val_acc_array"
   ]
  },
  {
   "cell_type": "code",
   "execution_count": 81,
   "metadata": {},
   "outputs": [],
   "source": [
    "import os\n",
    "import numpy as np\n",
    "import pandas as pd\n",
    "from PIL import Image\n",
    "import matplotlib.pyplot as plt\n",
    "from tqdm import tqdm\n",
    "import copy\n",
    "from sklearn.preprocessing import LabelEncoder\n",
    "\n",
    "import torch\n",
    "import torch.nn as nn\n",
    "from torch.utils.data import Dataset, DataLoader\n",
    "from torchvision import transforms, models"
   ]
  },
  {
   "cell_type": "code",
   "execution_count": 78,
   "metadata": {},
   "outputs": [],
   "source": [
    "import matplotlib.pyplot as plt\n",
    "def visualize_training_results(train_loss_array,\n",
    "                               val_loss_array,\n",
    "                               train_acc_array,\n",
    "                               val_acc_array,\n",
    "                               num_epochs,\n",
    "                               model_name,\n",
    "                               batch_size):\n",
    "    fig, axs = plt.subplots(1, 2, figsize=(14,4))\n",
    "    fig.suptitle(\"{} training | Batch size: {}\".format(model_name, batch_size), fontsize = 16)\n",
    "    axs[0].plot(list(range(1, num_epochs+1)), train_loss_array, label=\"train_loss\")\n",
    "    axs[0].plot(list(range(1, num_epochs+1)), val_loss_array, label=\"val_loss\")\n",
    "    axs[0].legend(loc='best')\n",
    "    axs[0].set(xlabel='epochs', ylabel='loss')\n",
    "    axs[1].plot(list(range(1, num_epochs+1)), train_acc_array, label=\"train_acc\")\n",
    "    axs[1].plot(list(range(1, num_epochs+1)), val_acc_array, label=\"val_acc\")\n",
    "    axs[1].legend(loc='best')\n",
    "    axs[1].set(xlabel='epochs', ylabel='accuracy')\n",
    "    plt.show()"
   ]
  },
  {
   "cell_type": "code",
   "execution_count": 79,
   "metadata": {},
   "outputs": [],
   "source": [
    "from torchvision import  models\n",
    "import numpy as np\n",
    "model_densenet161 = models.densenet161(pretrained=True)\n",
    "for param in model_densenet161.parameters():\n",
    "    param.requires_grad = False\n",
    "model_densenet161.classifier = torch.nn.Linear(model_densenet161.classifier.in_features, out_features=200)\n",
    "model_densenet161 = model_densenet161.to(DEVICE)"
   ]
  },
  {
   "cell_type": "code",
   "execution_count": 82,
   "metadata": {},
   "outputs": [
    {
     "name": "stderr",
     "output_type": "stream",
     "text": [
      "  0%|          | 0/3 [00:00<?, ?it/s]"
     ]
    },
    {
     "name": "stdout",
     "output_type": "stream",
     "text": [
      "Epoch: 1 | Learning rate: [0.0003]\n",
      "49\n",
      "21\n"
     ]
    },
    {
     "name": "stderr",
     "output_type": "stream",
     "text": [
      " 33%|███▎      | 1/3 [00:01<00:02,  1.42s/it]"
     ]
    },
    {
     "name": "stdout",
     "output_type": "stream",
     "text": [
      "\t| New lowest val loss for DenseNet161: 0.1853597973074232\n",
      "Epoch: 2 | Learning rate: [0.0003]\n",
      "49\n",
      "21\n"
     ]
    },
    {
     "name": "stderr",
     "output_type": "stream",
     "text": [
      " 67%|██████▋   | 2/3 [00:02<00:01,  1.45s/it]"
     ]
    },
    {
     "name": "stdout",
     "output_type": "stream",
     "text": [
      "\t| New lowest val loss for DenseNet161: 0.07393796972575642\n",
      "Epoch: 3 | Learning rate: [0.0003]\n",
      "49\n",
      "21\n"
     ]
    },
    {
     "name": "stderr",
     "output_type": "stream",
     "text": [
      "100%|██████████| 3/3 [00:04<00:00,  1.42s/it]"
     ]
    },
    {
     "name": "stdout",
     "output_type": "stream",
     "text": [
      "\t| New lowest val loss for DenseNet161: 0.06492361923058827\n"
     ]
    },
    {
     "name": "stderr",
     "output_type": "stream",
     "text": [
      "\n"
     ]
    },
    {
     "data": {
      "image/png": "[encoded data removed]",
      "text/plain": [
       "<Figure size 1400x400 with 2 Axes>"
      ]
     },
     "metadata": {},
     "output_type": "display_data"
    },
    {
     "name": "stdout",
     "output_type": "stream",
     "text": [
      "\n",
      "Training results:\n",
      "\tMin val loss 0.0649 was achieved during epoch #3\n",
      "\tVal accuracy during min val loss is 0.9524\n"
     ]
    }
   ],
   "source": [
    "densenet161_training_results = training(model=model_densenet161,\n",
    "                                        model_name='DenseNet161',\n",
    "                                        num_epochs=3,\n",
    "                                        train_dataloader=train_dataloader,\n",
    "                                        val_dataloader=val_dataloader)\n",
    "\n",
    "model_densenet161, train_loss_array, train_acc_array, val_loss_array, val_acc_array = densenet161_training_results\n",
    "\n",
    "min_loss = min(val_loss_array)\n",
    "min_loss_epoch = val_loss_array.index(min_loss)\n",
    "min_loss_accuracy = val_acc_array[min_loss_epoch]\n",
    "\n",
    "visualize_training_results(train_loss_array,\n",
    "                           val_loss_array,\n",
    "                           train_acc_array,\n",
    "                           val_acc_array,\n",
    "                           3,\n",
    "                           model_name=\"DenseNet161\",\n",
    "                           batch_size=64)\n",
    "print(\"\\nTraining results:\")\n",
    "print(\"\\tMin val loss {:.4f} was achieved during epoch #{}\".format(min_loss, min_loss_epoch + 1))\n",
    "print(\"\\tVal accuracy during min val loss is {:.4f}\".format(min_loss_accuracy))"
   ]
  },
  {
   "cell_type": "code",
   "execution_count": null,
   "metadata": {},
   "outputs": [],
   "source": []
  }
 ],
 "metadata": {
  "kernelspec": {
   "display_name": "Python 3",
   "language": "python",
   "name": "python3"
  },
  "language_info": {
   "codemirror_mode": {
    "name": "ipython",
    "version": 3
   },
   "file_extension": ".py",
   "mimetype": "text/x-python",
   "name": "python",
   "nbconvert_exporter": "python",
   "pygments_lexer": "ipython3",
   "version": "3.10.12"
  }
 },
 "nbformat": 4,
 "nbformat_minor": 2
}
